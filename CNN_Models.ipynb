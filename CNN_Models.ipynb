{
  "metadata": {
    "kernelspec": {
      "language": "python",
      "display_name": "Python 3",
      "name": "python3"
    },
    "language_info": {
      "name": "python",
      "version": "3.7.12",
      "mimetype": "text/x-python",
      "codemirror_mode": {
        "name": "ipython",
        "version": 3
      },
      "pygments_lexer": "ipython3",
      "nbconvert_exporter": "python",
      "file_extension": ".py"
    },
    "colab": {
      "provenance": [],
      "machine_shape": "hm"
    },
    "accelerator": "GPU",
    "gpuClass": "standard",
    "widgets": {
      "application/vnd.jupyter.widget-state+json": {
        "5446f003f4b54a0bb66251f17a15c094": {
          "model_module": "@jupyter-widgets/controls",
          "model_name": "HBoxModel",
          "model_module_version": "1.5.0",
          "state": {
            "_dom_classes": [],
            "_model_module": "@jupyter-widgets/controls",
            "_model_module_version": "1.5.0",
            "_model_name": "HBoxModel",
            "_view_count": null,
            "_view_module": "@jupyter-widgets/controls",
            "_view_module_version": "1.5.0",
            "_view_name": "HBoxView",
            "box_style": "",
            "children": [
              "IPY_MODEL_a439c1602270494f859aa030d7788059",
              "IPY_MODEL_5b7ba2116ed84eaaa6674f8fcd1e90ce",
              "IPY_MODEL_515ef3a30ccd42339fd98e8254eddbbd"
            ],
            "layout": "IPY_MODEL_97ccaae264b948b7b0c15a636fd995e0"
          }
        },
        "a439c1602270494f859aa030d7788059": {
          "model_module": "@jupyter-widgets/controls",
          "model_name": "HTMLModel",
          "model_module_version": "1.5.0",
          "state": {
            "_dom_classes": [],
            "_model_module": "@jupyter-widgets/controls",
            "_model_module_version": "1.5.0",
            "_model_name": "HTMLModel",
            "_view_count": null,
            "_view_module": "@jupyter-widgets/controls",
            "_view_module_version": "1.5.0",
            "_view_name": "HTMLView",
            "description": "",
            "description_tooltip": null,
            "layout": "IPY_MODEL_b44499d7a0fa40208aff940735269ef3",
            "placeholder": "​",
            "style": "IPY_MODEL_7ca88615319c4348a8c2bd15bc31b663",
            "value": "100%"
          }
        },
        "5b7ba2116ed84eaaa6674f8fcd1e90ce": {
          "model_module": "@jupyter-widgets/controls",
          "model_name": "FloatProgressModel",
          "model_module_version": "1.5.0",
          "state": {
            "_dom_classes": [],
            "_model_module": "@jupyter-widgets/controls",
            "_model_module_version": "1.5.0",
            "_model_name": "FloatProgressModel",
            "_view_count": null,
            "_view_module": "@jupyter-widgets/controls",
            "_view_module_version": "1.5.0",
            "_view_name": "ProgressView",
            "bar_style": "success",
            "description": "",
            "description_tooltip": null,
            "layout": "IPY_MODEL_182d10cae0474c669dff99adcbb713e5",
            "max": 46830571,
            "min": 0,
            "orientation": "horizontal",
            "style": "IPY_MODEL_768d38d7a82448989ab73e6402aa8a24",
            "value": 46830571
          }
        },
        "515ef3a30ccd42339fd98e8254eddbbd": {
          "model_module": "@jupyter-widgets/controls",
          "model_name": "HTMLModel",
          "model_module_version": "1.5.0",
          "state": {
            "_dom_classes": [],
            "_model_module": "@jupyter-widgets/controls",
            "_model_module_version": "1.5.0",
            "_model_name": "HTMLModel",
            "_view_count": null,
            "_view_module": "@jupyter-widgets/controls",
            "_view_module_version": "1.5.0",
            "_view_name": "HTMLView",
            "description": "",
            "description_tooltip": null,
            "layout": "IPY_MODEL_1c178abcac574ba190a558442c2c0a5f",
            "placeholder": "​",
            "style": "IPY_MODEL_7b74d62f95ac4122aea6cbe9e669e392",
            "value": " 44.7M/44.7M [00:00&lt;00:00, 206MB/s]"
          }
        },
        "97ccaae264b948b7b0c15a636fd995e0": {
          "model_module": "@jupyter-widgets/base",
          "model_name": "LayoutModel",
          "model_module_version": "1.2.0",
          "state": {
            "_model_module": "@jupyter-widgets/base",
            "_model_module_version": "1.2.0",
            "_model_name": "LayoutModel",
            "_view_count": null,
            "_view_module": "@jupyter-widgets/base",
            "_view_module_version": "1.2.0",
            "_view_name": "LayoutView",
            "align_content": null,
            "align_items": null,
            "align_self": null,
            "border": null,
            "bottom": null,
            "display": null,
            "flex": null,
            "flex_flow": null,
            "grid_area": null,
            "grid_auto_columns": null,
            "grid_auto_flow": null,
            "grid_auto_rows": null,
            "grid_column": null,
            "grid_gap": null,
            "grid_row": null,
            "grid_template_areas": null,
            "grid_template_columns": null,
            "grid_template_rows": null,
            "height": null,
            "justify_content": null,
            "justify_items": null,
            "left": null,
            "margin": null,
            "max_height": null,
            "max_width": null,
            "min_height": null,
            "min_width": null,
            "object_fit": null,
            "object_position": null,
            "order": null,
            "overflow": null,
            "overflow_x": null,
            "overflow_y": null,
            "padding": null,
            "right": null,
            "top": null,
            "visibility": null,
            "width": null
          }
        },
        "b44499d7a0fa40208aff940735269ef3": {
          "model_module": "@jupyter-widgets/base",
          "model_name": "LayoutModel",
          "model_module_version": "1.2.0",
          "state": {
            "_model_module": "@jupyter-widgets/base",
            "_model_module_version": "1.2.0",
            "_model_name": "LayoutModel",
            "_view_count": null,
            "_view_module": "@jupyter-widgets/base",
            "_view_module_version": "1.2.0",
            "_view_name": "LayoutView",
            "align_content": null,
            "align_items": null,
            "align_self": null,
            "border": null,
            "bottom": null,
            "display": null,
            "flex": null,
            "flex_flow": null,
            "grid_area": null,
            "grid_auto_columns": null,
            "grid_auto_flow": null,
            "grid_auto_rows": null,
            "grid_column": null,
            "grid_gap": null,
            "grid_row": null,
            "grid_template_areas": null,
            "grid_template_columns": null,
            "grid_template_rows": null,
            "height": null,
            "justify_content": null,
            "justify_items": null,
            "left": null,
            "margin": null,
            "max_height": null,
            "max_width": null,
            "min_height": null,
            "min_width": null,
            "object_fit": null,
            "object_position": null,
            "order": null,
            "overflow": null,
            "overflow_x": null,
            "overflow_y": null,
            "padding": null,
            "right": null,
            "top": null,
            "visibility": null,
            "width": null
          }
        },
        "7ca88615319c4348a8c2bd15bc31b663": {
          "model_module": "@jupyter-widgets/controls",
          "model_name": "DescriptionStyleModel",
          "model_module_version": "1.5.0",
          "state": {
            "_model_module": "@jupyter-widgets/controls",
            "_model_module_version": "1.5.0",
            "_model_name": "DescriptionStyleModel",
            "_view_count": null,
            "_view_module": "@jupyter-widgets/base",
            "_view_module_version": "1.2.0",
            "_view_name": "StyleView",
            "description_width": ""
          }
        },
        "182d10cae0474c669dff99adcbb713e5": {
          "model_module": "@jupyter-widgets/base",
          "model_name": "LayoutModel",
          "model_module_version": "1.2.0",
          "state": {
            "_model_module": "@jupyter-widgets/base",
            "_model_module_version": "1.2.0",
            "_model_name": "LayoutModel",
            "_view_count": null,
            "_view_module": "@jupyter-widgets/base",
            "_view_module_version": "1.2.0",
            "_view_name": "LayoutView",
            "align_content": null,
            "align_items": null,
            "align_self": null,
            "border": null,
            "bottom": null,
            "display": null,
            "flex": null,
            "flex_flow": null,
            "grid_area": null,
            "grid_auto_columns": null,
            "grid_auto_flow": null,
            "grid_auto_rows": null,
            "grid_column": null,
            "grid_gap": null,
            "grid_row": null,
            "grid_template_areas": null,
            "grid_template_columns": null,
            "grid_template_rows": null,
            "height": null,
            "justify_content": null,
            "justify_items": null,
            "left": null,
            "margin": null,
            "max_height": null,
            "max_width": null,
            "min_height": null,
            "min_width": null,
            "object_fit": null,
            "object_position": null,
            "order": null,
            "overflow": null,
            "overflow_x": null,
            "overflow_y": null,
            "padding": null,
            "right": null,
            "top": null,
            "visibility": null,
            "width": null
          }
        },
        "768d38d7a82448989ab73e6402aa8a24": {
          "model_module": "@jupyter-widgets/controls",
          "model_name": "ProgressStyleModel",
          "model_module_version": "1.5.0",
          "state": {
            "_model_module": "@jupyter-widgets/controls",
            "_model_module_version": "1.5.0",
            "_model_name": "ProgressStyleModel",
            "_view_count": null,
            "_view_module": "@jupyter-widgets/base",
            "_view_module_version": "1.2.0",
            "_view_name": "StyleView",
            "bar_color": null,
            "description_width": ""
          }
        },
        "1c178abcac574ba190a558442c2c0a5f": {
          "model_module": "@jupyter-widgets/base",
          "model_name": "LayoutModel",
          "model_module_version": "1.2.0",
          "state": {
            "_model_module": "@jupyter-widgets/base",
            "_model_module_version": "1.2.0",
            "_model_name": "LayoutModel",
            "_view_count": null,
            "_view_module": "@jupyter-widgets/base",
            "_view_module_version": "1.2.0",
            "_view_name": "LayoutView",
            "align_content": null,
            "align_items": null,
            "align_self": null,
            "border": null,
            "bottom": null,
            "display": null,
            "flex": null,
            "flex_flow": null,
            "grid_area": null,
            "grid_auto_columns": null,
            "grid_auto_flow": null,
            "grid_auto_rows": null,
            "grid_column": null,
            "grid_gap": null,
            "grid_row": null,
            "grid_template_areas": null,
            "grid_template_columns": null,
            "grid_template_rows": null,
            "height": null,
            "justify_content": null,
            "justify_items": null,
            "left": null,
            "margin": null,
            "max_height": null,
            "max_width": null,
            "min_height": null,
            "min_width": null,
            "object_fit": null,
            "object_position": null,
            "order": null,
            "overflow": null,
            "overflow_x": null,
            "overflow_y": null,
            "padding": null,
            "right": null,
            "top": null,
            "visibility": null,
            "width": null
          }
        },
        "7b74d62f95ac4122aea6cbe9e669e392": {
          "model_module": "@jupyter-widgets/controls",
          "model_name": "DescriptionStyleModel",
          "model_module_version": "1.5.0",
          "state": {
            "_model_module": "@jupyter-widgets/controls",
            "_model_module_version": "1.5.0",
            "_model_name": "DescriptionStyleModel",
            "_view_count": null,
            "_view_module": "@jupyter-widgets/base",
            "_view_module_version": "1.2.0",
            "_view_name": "StyleView",
            "description_width": ""
          }
        }
      }
    }
  },
  "nbformat_minor": 0,
  "nbformat": 4,
  "cells": [
    {
      "cell_type": "markdown",
      "source": [
        "#Importing Libraries"
      ],
      "metadata": {
        "id": "3txn04SA9clg"
      }
    },
    {
      "cell_type": "code",
      "source": [
        "import numpy as np\n",
        "import pandas as pd\n",
        "import torch\n",
        "from torch import nn\n",
        "from torchvision import models, transforms, datasets\n",
        "import matplotlib.pyplot as plt\n",
        "import seaborn as sns\n",
        "from time import time\n",
        "import os\n",
        "import glob\n",
        "import imageio\n",
        "import random, shutil\n",
        "from tqdm.notebook import tqdm\n",
        "import torch.nn.functional as F\n",
        "import matplotlib.pyplot as plt\n",
        "import IPython.display as display\n",
        "import librosa\n",
        "import librosa.display"
      ],
      "metadata": {
        "_uuid": "8f2839f25d086af736a60e9eeb907d3b93b6e0e5",
        "_cell_guid": "b1076dfc-b9ad-4769-8c92-a6c4dae69d19",
        "execution": {
          "iopub.status.busy": "2022-12-17T00:49:50.584462Z",
          "iopub.execute_input": "2022-12-17T00:49:50.584844Z",
          "iopub.status.idle": "2022-12-17T00:49:50.590980Z",
          "shell.execute_reply.started": "2022-12-17T00:49:50.584813Z",
          "shell.execute_reply": "2022-12-17T00:49:50.589951Z"
        },
        "trusted": true,
        "id": "KvXTgjcukaqk"
      },
      "execution_count": 3,
      "outputs": []
    },
    {
      "cell_type": "markdown",
      "source": [
        "#Downloading Data"
      ],
      "metadata": {
        "id": "hARzdsLx9abI"
      }
    },
    {
      "cell_type": "code",
      "source": [
        "import requests\n",
        "\n",
        "fname = \"music.zip\"\n",
        "url = \"https://osf.io/drjhb/download\"\n",
        "\n",
        "if not os.path.isfile(fname):\n",
        "  try:\n",
        "    r = requests.get(url)\n",
        "  except requests.ConnectionError:\n",
        "    print(\"!!! Failed to download data !!!\")\n",
        "  else:\n",
        "    if r.status_code != requests.codes.ok:\n",
        "      print(\"!!! Failed to download data !!!\")\n",
        "    else:\n",
        "      with open(fname, \"wb\") as fid:\n",
        "        fid.write(r.content)"
      ],
      "metadata": {
        "id": "_AkHPQ6n9Z80"
      },
      "execution_count": null,
      "outputs": []
    },
    {
      "cell_type": "code",
      "source": [
        "from zipfile import ZipFile\n",
        "\n",
        "with ZipFile(fname, 'r') as zipObj:\n",
        "  # Extract all the contents of zip file in different directory\n",
        "  zipObj.extractall()"
      ],
      "metadata": {
        "id": "rFGDbJ-c9ieb"
      },
      "execution_count": null,
      "outputs": []
    },
    {
      "cell_type": "code",
      "source": [
        "%%time\n",
        "transforms = transforms.Compose([\n",
        "    transforms.ToTensor(),\n",
        "    transforms.Normalize(mean=[0.4931, 0.9151, 0.9960], std=[0.4495, 0.1716, 0.0602])\n",
        "])\n",
        "\n",
        "#Loading Datasets\n",
        "train_dataset = datasets.ImageFolder(path_imgs, transform = transforms)\n",
        "val_dataset = datasets.ImageFolder(path_imgs, transform = transforms)\n",
        "test_dataset = datasets.ImageFolder(path_imgs, transform = transforms)\n",
        "\n",
        "torch.manual_seed(1)\n",
        "num_train_samples = len(train_dataset)\n",
        "\n",
        "# Permute the data\n",
        "indices = torch.randperm(num_train_samples)\n",
        "\n",
        "# Split the data into Train and Validation\n",
        "train_testval_split = 0.2\n",
        "train_split = int(num_train_samples * train_testval_split)\n",
        "val_split = int(train_split * 0.5)\n",
        "\n",
        "train_subset = torch.utils.data.Subset(train_dataset, indices[train_split:])\n",
        "val_subset = torch.utils.data.Subset(val_dataset, indices[val_split:train_split])\n",
        "test_subset = torch.utils.data.Subset(test_dataset, indices[:val_split])\n",
        "\n",
        "\n",
        "print(f\"Length of Train:{len(train_subset)}; Length of Val:{len(val_subset)}; Length of Test:{len(test_subset)}\")\n",
        "\n",
        "\n",
        "\n",
        "# Make DataLoaders \n",
        "train_dataloader = torch.utils.data.DataLoader(\n",
        "    dataset=train_subset, \n",
        "    batch_size=batch_size,\n",
        "    shuffle=True\n",
        ")\n",
        "\n",
        "val_dataloader = torch.utils.data.DataLoader(\n",
        "    dataset=val_subset,\n",
        "    batch_size=batch_size,\n",
        "    shuffle=False\n",
        ")\n",
        "\n",
        "test_dataloader = torch.utils.data.DataLoader(\n",
        "    dataset=test_subset,\n",
        "    batch_size=batch_size,\n",
        "    shuffle=False\n",
        ")\n",
        "\n",
        "# Classes\n",
        "classes = train_dataloader.dataset.dataset.classes"
      ],
      "metadata": {
        "execution": {
          "iopub.status.busy": "2022-11-19T08:38:24.240163Z",
          "iopub.execute_input": "2022-11-19T08:38:24.240701Z",
          "iopub.status.idle": "2022-11-19T08:38:24.283872Z",
          "shell.execute_reply.started": "2022-11-19T08:38:24.24066Z",
          "shell.execute_reply": "2022-11-19T08:38:24.282798Z"
        },
        "trusted": true,
        "colab": {
          "base_uri": "https://localhost:8080/"
        },
        "id": "YTwE92JQkaqr",
        "outputId": "2ef06b20-7791-4e68-bb4e-5b8e9d373c4d"
      },
      "execution_count": null,
      "outputs": [
        {
          "output_type": "stream",
          "name": "stdout",
          "text": [
            "Length of Train:800; Length of Val:100; Length of Test:99\n",
            "CPU times: user 12.1 ms, sys: 0 ns, total: 12.1 ms\n",
            "Wall time: 12 ms\n"
          ]
        }
      ]
    },
    {
      "cell_type": "code",
      "source": [
        "def mean_std(loader):\n",
        "    images, lebels = next(iter(loader))\n",
        "    # shape of images = [b,c,w,h]\n",
        "    mean, std = images.mean([0,2,3]), images.std([0,2,3])\n",
        "    return mean, std\n",
        "\n",
        "mean, std = mean_std(train_dataloader)\n",
        "print(\"mean and std: \\n\", mean, std)"
      ],
      "metadata": {
        "execution": {
          "iopub.status.busy": "2022-11-19T08:38:24.285118Z",
          "iopub.execute_input": "2022-11-19T08:38:24.285537Z",
          "iopub.status.idle": "2022-11-19T08:38:25.332422Z",
          "shell.execute_reply.started": "2022-11-19T08:38:24.285501Z",
          "shell.execute_reply": "2022-11-19T08:38:25.331125Z"
        },
        "trusted": true,
        "colab": {
          "base_uri": "https://localhost:8080/"
        },
        "outputId": "25cbd5b9-fc5e-4cae-b81a-27b6305172e3",
        "id": "2wuUS4DODiFL"
      },
      "execution_count": null,
      "outputs": [
        {
          "output_type": "stream",
          "name": "stdout",
          "text": [
            "mean and std: \n",
            " tensor([ 0.0563, -2.7210, -7.7665]) tensor([1.0046, 2.7263, 7.0552])\n"
          ]
        }
      ]
    },
    {
      "cell_type": "code",
      "source": [
        "#Remake loaders with data mean and standard deviation values as transformation values\n",
        "%%time\n",
        "transforms = transforms.Compose([\n",
        "    transforms.ToTensor(),\n",
        "    transforms.Normalize(mean=[ 0.0563, -2.7210, -7.7665], std=[1.0046, 2.7263, 7.0552])\n",
        "])\n",
        "\n",
        "#Loading Datasets\n",
        "train_dataset = datasets.ImageFolder(path_imgs, transform = transforms)\n",
        "val_dataset = datasets.ImageFolder(path_imgs, transform = transforms)\n",
        "test_dataset = datasets.ImageFolder(path_imgs, transform = transforms)\n",
        "\n",
        "torch.manual_seed(1)\n",
        "num_train_samples = len(train_dataset)\n",
        "\n",
        "# Permute the data\n",
        "indices = torch.randperm(num_train_samples)\n",
        "\n",
        "# Split the data into Train and Validation\n",
        "train_testval_split = 0.2\n",
        "train_split = int(num_train_samples * train_testval_split)\n",
        "val_split = int(train_split * 0.5)\n",
        "\n",
        "train_subset = torch.utils.data.Subset(train_dataset, indices[train_split:])\n",
        "val_subset = torch.utils.data.Subset(val_dataset, indices[val_split:train_split])\n",
        "test_subset = torch.utils.data.Subset(test_dataset, indices[:val_split])\n",
        "\n",
        "\n",
        "print(f\"Length of Train:{len(train_subset)}; Length of Val:{len(val_subset)}; Length of Test:{len(test_subset)}\")\n",
        "\n",
        "\n",
        "\n",
        "# Make DataLoaders \n",
        "train_dataloader = torch.utils.data.DataLoader(\n",
        "    dataset=train_subset, \n",
        "    batch_size=batch_size,\n",
        "    shuffle=True\n",
        ")\n",
        "\n",
        "val_dataloader = torch.utils.data.DataLoader(\n",
        "    dataset=val_subset,\n",
        "    batch_size=batch_size,\n",
        "    shuffle=False\n",
        ")\n",
        "\n",
        "test_dataloader = torch.utils.data.DataLoader(\n",
        "    dataset=test_subset,\n",
        "    batch_size=batch_size,\n",
        "    shuffle=False\n",
        ")\n",
        "\n",
        "# Classes\n",
        "classes = train_dataloader.dataset.dataset.classes"
      ],
      "metadata": {
        "execution": {
          "iopub.status.busy": "2022-11-19T08:38:24.240163Z",
          "iopub.execute_input": "2022-11-19T08:38:24.240701Z",
          "iopub.status.idle": "2022-11-19T08:38:24.283872Z",
          "shell.execute_reply.started": "2022-11-19T08:38:24.24066Z",
          "shell.execute_reply": "2022-11-19T08:38:24.282798Z"
        },
        "trusted": true,
        "colab": {
          "base_uri": "https://localhost:8080/"
        },
        "outputId": "2ef06b20-7791-4e68-bb4e-5b8e9d373c4d",
        "id": "dc90KzjFD0Nr"
      },
      "execution_count": null,
      "outputs": [
        {
          "output_type": "stream",
          "name": "stdout",
          "text": [
            "Length of Train:800; Length of Val:100; Length of Test:99\n",
            "CPU times: user 12.1 ms, sys: 0 ns, total: 12.1 ms\n",
            "Wall time: 12 ms\n"
          ]
        }
      ]
    },
    {
      "cell_type": "code",
      "source": [
        "device = 'cuda' if torch.cuda.is_available() else 'cpu'\n",
        "seed = 42\n",
        "np.random.seed(seed)\n",
        "path_audio_files = \"Data/genres_original/\"\n",
        "path_imgs = \"Data/images_original\"\n",
        "batch_size = 32\n",
        "hop_length = 512\n",
        "n_fft = 2048\n",
        "genre_dict = {\"blues\":0,\"classical\":1,\"country\":2,\"disco\":3,\"hiphop\":4,\"jazz\":5,\"metal\":6,\"pop\":7,\"reggae\":8,\"rock\":9}"
      ],
      "metadata": {
        "id": "8G4OwOt6_I4M"
      },
      "execution_count": null,
      "outputs": []
    },
    {
      "cell_type": "markdown",
      "source": [
        "#Define Train Method"
      ],
      "metadata": {
        "id": "eZUZ3dwXERWB"
      }
    },
    {
      "cell_type": "code",
      "source": [
        "def train(model, criterion, optimizer, train_dataloader, val_dataloader,print_every,num_epoch):\n",
        "    \n",
        "    steps = 0\n",
        "    train_losses, val_losses = [], []\n",
        "    \n",
        "    model.to(device)\n",
        "    for epoch in tqdm(range(num_epoch)):\n",
        "        running_loss = 0\n",
        "        correct_train = 0\n",
        "        total_train = 0\n",
        "        start_time = time()\n",
        "        iter_time = time()\n",
        "        \n",
        "        model.train()\n",
        "        for i, (images, labels) in enumerate(train_dataloader):\n",
        "            steps += 1\n",
        "            images = images.to(device)\n",
        "            labels = labels.to(device)\n",
        "            \n",
        "            # Forward pass\n",
        "            output = model(images)\n",
        "            loss = criterion(output, labels)\n",
        "\n",
        "            correct_train += (torch.max(output, dim=1)[1] == labels).sum()\n",
        "            total_train += labels.size(0)\n",
        "            \n",
        "            # Backward pass and optimization step\n",
        "            optimizer.zero_grad()\n",
        "            loss.backward()\n",
        "            optimizer.step()\n",
        "            running_loss += loss.item()\n",
        "            \n",
        "            if steps % print_every == 0:\n",
        "                print(f'Epoch [{epoch + 1}]/[{num_epoch}]. Batch [{i + 1}]/[{len(train_dataloader)}].', end=' ')\n",
        "                print(f'Train loss {running_loss / steps:.3f}.', end=' ')\n",
        "                print(f'Train acc {correct_train / total_train * 100:.3f}.', end=' ')\n",
        "                with torch.no_grad():\n",
        "                    model.eval()\n",
        "                    correct_val, total_val = 0, 0\n",
        "                    val_loss = 0\n",
        "                    for images, labels in val_dataloader:\n",
        "                        images = images.to(device)\n",
        "                        labels = labels.to(device)\n",
        "                        output = model(images)\n",
        "                        loss = criterion(output, labels)\n",
        "                        val_loss += loss.item()\n",
        "                        \n",
        "                        correct_val += (torch.max(output, dim=1)[1] == labels).sum()\n",
        "                        total_val += labels.size(0)\n",
        "\n",
        "                print(f'Val loss {val_loss / len(val_dataloader):.3f}. Val acc {correct_val / total_val * 100:.3f}.', end=' ')\n",
        "                print(f'Took {time() - iter_time:.3f} seconds')\n",
        "                iter_time = time()\n",
        "                \n",
        "                \n",
        "                train_losses.append(running_loss / total_train)\n",
        "                val_losses.append(val_loss / total_val)\n",
        "\n",
        "        print(f'Epoch took {time() - start_time}') \n",
        "        \n",
        "    return model, train_losses, val_losses"
      ],
      "metadata": {
        "id": "S7iVOhW7_sjO"
      },
      "execution_count": null,
      "outputs": []
    },
    {
      "cell_type": "markdown",
      "source": [
        "#ResNet18 Model"
      ],
      "metadata": {
        "id": "bOFcPTmGEIOU"
      }
    },
    {
      "cell_type": "code",
      "source": [
        "# Load a Pretrained Model\n",
        "resnet18 = models.resnet18(pretrained=True)\n",
        "\n",
        "# Fix the trainable parameters\n",
        "for parameter in resnet18.parameters():\n",
        "    parameter.requires_grad = False\n",
        "    \n",
        "    \n",
        "# Number of Input Features in the Last Fully Connected Layer\n",
        "in_features = resnet18.fc.in_features\n",
        "\n",
        "# Replacing the Last Fully Connected Layer\n",
        "fc = nn.Linear(in_features=in_features, out_features=len(classes))\n",
        "resnet18.fc = fc\n",
        "\n",
        "\n",
        "# Updating the Weights and Bias of the last layer\n",
        "params_to_update = []\n",
        "for name, param in resnet18.named_parameters():\n",
        "    if param.requires_grad == True:\n",
        "        params_to_update.append(param)\n",
        "\n",
        "# Define the Loss and Optimizer Functions\n",
        "criterion = nn.CrossEntropyLoss()\n",
        "optimizer = torch.optim.Adam(params_to_update, lr=0.001)"
      ],
      "metadata": {
        "colab": {
          "base_uri": "https://localhost:8080/",
          "height": 160,
          "referenced_widgets": [
            "5446f003f4b54a0bb66251f17a15c094",
            "a439c1602270494f859aa030d7788059",
            "5b7ba2116ed84eaaa6674f8fcd1e90ce",
            "515ef3a30ccd42339fd98e8254eddbbd",
            "97ccaae264b948b7b0c15a636fd995e0",
            "b44499d7a0fa40208aff940735269ef3",
            "7ca88615319c4348a8c2bd15bc31b663",
            "182d10cae0474c669dff99adcbb713e5",
            "768d38d7a82448989ab73e6402aa8a24",
            "1c178abcac574ba190a558442c2c0a5f",
            "7b74d62f95ac4122aea6cbe9e669e392"
          ]
        },
        "id": "BVTfV9vymTQD",
        "outputId": "23aa7289-2783-4c60-8eca-a75c29762944"
      },
      "execution_count": null,
      "outputs": [
        {
          "output_type": "stream",
          "name": "stderr",
          "text": [
            "/usr/local/lib/python3.8/dist-packages/torchvision/models/_utils.py:208: UserWarning: The parameter 'pretrained' is deprecated since 0.13 and may be removed in the future, please use 'weights' instead.\n",
            "  warnings.warn(\n",
            "/usr/local/lib/python3.8/dist-packages/torchvision/models/_utils.py:223: UserWarning: Arguments other than a weight enum or `None` for 'weights' are deprecated since 0.13 and may be removed in the future. The current behavior is equivalent to passing `weights=ResNet18_Weights.IMAGENET1K_V1`. You can also use `weights=ResNet18_Weights.DEFAULT` to get the most up-to-date weights.\n",
            "  warnings.warn(msg)\n",
            "Downloading: \"https://download.pytorch.org/models/resnet18-f37072fd.pth\" to /root/.cache/torch/hub/checkpoints/resnet18-f37072fd.pth\n"
          ]
        },
        {
          "output_type": "display_data",
          "data": {
            "text/plain": [
              "  0%|          | 0.00/44.7M [00:00<?, ?B/s]"
            ],
            "application/vnd.jupyter.widget-view+json": {
              "version_major": 2,
              "version_minor": 0,
              "model_id": "5446f003f4b54a0bb66251f17a15c094"
            }
          },
          "metadata": {}
        }
      ]
    },
    {
      "cell_type": "code",
      "source": [
        "resnet18, train_losses, val_losses = train(\n",
        "    model=resnet18,\n",
        "    criterion=criterion,\n",
        "    optimizer=optimizer,\n",
        "    train_dataloader=train_dataloader,\n",
        "    val_dataloader=val_dataloader,\n",
        "    print_every=25,\n",
        "    num_epoch=100\n",
        ")"
      ],
      "metadata": {
        "colab": {
          "base_uri": "https://localhost:8080/",
          "height": 1000,
          "referenced_widgets": [
            "602884e84e964b7a89dcacad512a24a9",
            "68caa06f0e6b4d01b3a66616079eee8f",
            "763588b321664c948d86a71a14a737f6",
            "159b1802ab3e4072a54b04f367177f22",
            "9aaf892074af42f8b72fdda1e580e2eb",
            "338258cb5f1640389f31b27ac3b39875",
            "7b413fc09fbf4a0badf1a67872d14a48",
            "247f6294e417415fb4a077e3445229e1",
            "c139d26ce0d64ec9adf776fc8053910d",
            "d84f98be60ef407cbe14590c0683ada9",
            "948ac13c52324b8ea1fd5943d5ab5500"
          ]
        },
        "id": "8r9Fcu3p_zsl",
        "outputId": "4140deb9-0ad5-40e0-fb6e-fb33bf20a1e4"
      },
      "execution_count": null,
      "outputs": [
        {
          "output_type": "display_data",
          "data": {
            "text/plain": [
              "  0%|          | 0/100 [00:00<?, ?it/s]"
            ],
            "application/vnd.jupyter.widget-view+json": {
              "version_major": 2,
              "version_minor": 0,
              "model_id": "602884e84e964b7a89dcacad512a24a9"
            }
          },
          "metadata": {}
        },
        {
          "output_type": "stream",
          "name": "stdout",
          "text": [
            "Epoch [1]/[100]. Batch [25]/[25]. Train loss 2.274. Train acc 15.500. Val loss 2.221. Val acc 12.000. Took 13.419 seconds\n",
            "Epoch took 13.420408010482788\n",
            "Epoch [2]/[100]. Batch [25]/[25]. Train loss 0.972. Train acc 32.375. Val loss 1.928. Val acc 32.000. Took 6.305 seconds\n",
            "Epoch took 6.306377649307251\n",
            "Epoch [3]/[100]. Batch [25]/[25]. Train loss 0.576. Train acc 43.375. Val loss 1.822. Val acc 35.000. Took 6.286 seconds\n",
            "Epoch took 6.287393093109131\n",
            "Epoch [4]/[100]. Batch [25]/[25]. Train loss 0.393. Train acc 54.250. Val loss 1.668. Val acc 44.000. Took 6.481 seconds\n",
            "Epoch took 6.482987642288208\n",
            "Epoch [5]/[100]. Batch [25]/[25]. Train loss 0.294. Train acc 56.000. Val loss 1.629. Val acc 42.000. Took 6.460 seconds\n",
            "Epoch took 6.461678981781006\n",
            "Epoch [6]/[100]. Batch [25]/[25]. Train loss 0.232. Train acc 58.375. Val loss 1.570. Val acc 49.000. Took 6.400 seconds\n",
            "Epoch took 6.401785135269165\n",
            "Epoch [7]/[100]. Batch [25]/[25]. Train loss 0.187. Train acc 61.375. Val loss 1.568. Val acc 55.000. Took 6.713 seconds\n",
            "Epoch took 6.71522331237793\n",
            "Epoch [8]/[100]. Batch [25]/[25]. Train loss 0.161. Train acc 60.625. Val loss 1.577. Val acc 51.000. Took 6.751 seconds\n",
            "Epoch took 6.7522101402282715\n",
            "Epoch [9]/[100]. Batch [25]/[25]. Train loss 0.135. Train acc 64.000. Val loss 1.493. Val acc 50.000. Took 6.308 seconds\n",
            "Epoch took 6.309635639190674\n",
            "Epoch [10]/[100]. Batch [25]/[25]. Train loss 0.116. Train acc 65.875. Val loss 1.387. Val acc 54.000. Took 6.345 seconds\n",
            "Epoch took 6.346737861633301\n",
            "Epoch [11]/[100]. Batch [25]/[25]. Train loss 0.105. Train acc 64.875. Val loss 1.371. Val acc 56.000. Took 6.545 seconds\n",
            "Epoch took 6.54671049118042\n",
            "Epoch [12]/[100]. Batch [25]/[25]. Train loss 0.093. Train acc 66.250. Val loss 1.370. Val acc 59.000. Took 6.349 seconds\n",
            "Epoch took 6.350286960601807\n",
            "Epoch [13]/[100]. Batch [25]/[25]. Train loss 0.083. Train acc 67.375. Val loss 1.319. Val acc 55.000. Took 6.370 seconds\n",
            "Epoch took 6.37177300453186\n",
            "Epoch [14]/[100]. Batch [25]/[25]. Train loss 0.077. Train acc 65.125. Val loss 1.426. Val acc 54.000. Took 6.313 seconds\n",
            "Epoch took 6.314739942550659\n",
            "Epoch [15]/[100]. Batch [25]/[25]. Train loss 0.070. Train acc 67.375. Val loss 1.505. Val acc 46.000. Took 6.283 seconds\n",
            "Epoch took 6.284506797790527\n",
            "Epoch [16]/[100]. Batch [25]/[25]. Train loss 0.064. Train acc 68.125. Val loss 1.380. Val acc 53.000. Took 6.275 seconds\n",
            "Epoch took 6.276458263397217\n",
            "Epoch [17]/[100]. Batch [25]/[25]. Train loss 0.058. Train acc 70.375. Val loss 1.347. Val acc 59.000. Took 6.263 seconds\n",
            "Epoch took 6.265060186386108\n",
            "Epoch [18]/[100]. Batch [25]/[25]. Train loss 0.054. Train acc 70.750. Val loss 1.340. Val acc 57.000. Took 6.288 seconds\n",
            "Epoch took 6.289064884185791\n",
            "Epoch [19]/[100]. Batch [25]/[25]. Train loss 0.051. Train acc 70.625. Val loss 1.323. Val acc 58.000. Took 6.369 seconds\n",
            "Epoch took 6.3707709312438965\n",
            "Epoch [20]/[100]. Batch [25]/[25]. Train loss 0.049. Train acc 70.250. Val loss 1.254. Val acc 60.000. Took 6.335 seconds\n",
            "Epoch took 6.33625864982605\n",
            "Epoch [21]/[100]. Batch [25]/[25]. Train loss 0.044. Train acc 72.250. Val loss 1.311. Val acc 53.000. Took 6.361 seconds\n",
            "Epoch took 6.362956523895264\n",
            "Epoch [22]/[100]. Batch [25]/[25]. Train loss 0.043. Train acc 71.125. Val loss 1.406. Val acc 50.000. Took 6.272 seconds\n",
            "Epoch took 6.27352237701416\n",
            "Epoch [23]/[100]. Batch [25]/[25]. Train loss 0.039. Train acc 71.125. Val loss 1.325. Val acc 56.000. Took 6.268 seconds\n",
            "Epoch took 6.270098686218262\n",
            "Epoch [24]/[100]. Batch [25]/[25]. Train loss 0.036. Train acc 71.375. Val loss 1.257. Val acc 57.000. Took 6.248 seconds\n",
            "Epoch took 6.2491774559021\n",
            "Epoch [25]/[100]. Batch [25]/[25]. Train loss 0.035. Train acc 73.875. Val loss 1.342. Val acc 56.000. Took 6.311 seconds\n",
            "Epoch took 6.312891960144043\n",
            "Epoch [26]/[100]. Batch [25]/[25]. Train loss 0.033. Train acc 75.000. Val loss 1.330. Val acc 59.000. Took 6.322 seconds\n",
            "Epoch took 6.323330640792847\n",
            "Epoch [27]/[100]. Batch [25]/[25]. Train loss 0.031. Train acc 75.375. Val loss 1.275. Val acc 53.000. Took 6.238 seconds\n",
            "Epoch took 6.239417314529419\n",
            "Epoch [28]/[100]. Batch [25]/[25]. Train loss 0.028. Train acc 76.000. Val loss 1.249. Val acc 59.000. Took 6.948 seconds\n",
            "Epoch took 6.9499218463897705\n",
            "Epoch [29]/[100]. Batch [25]/[25]. Train loss 0.028. Train acc 75.500. Val loss 1.287. Val acc 55.000. Took 6.353 seconds\n",
            "Epoch took 6.354696750640869\n",
            "Epoch [30]/[100]. Batch [25]/[25]. Train loss 0.026. Train acc 75.875. Val loss 1.287. Val acc 55.000. Took 6.320 seconds\n",
            "Epoch took 6.321528196334839\n",
            "Epoch [31]/[100]. Batch [25]/[25]. Train loss 0.026. Train acc 75.375. Val loss 1.227. Val acc 58.000. Took 6.387 seconds\n",
            "Epoch took 6.388211250305176\n",
            "Epoch [32]/[100]. Batch [25]/[25]. Train loss 0.024. Train acc 77.500. Val loss 1.226. Val acc 59.000. Took 6.329 seconds\n",
            "Epoch took 6.330169200897217\n",
            "Epoch [33]/[100]. Batch [25]/[25]. Train loss 0.025. Train acc 74.375. Val loss 1.274. Val acc 54.000. Took 6.358 seconds\n",
            "Epoch took 6.359815359115601\n",
            "Epoch [34]/[100]. Batch [25]/[25]. Train loss 0.023. Train acc 76.500. Val loss 1.223. Val acc 58.000. Took 6.284 seconds\n",
            "Epoch took 6.285601854324341\n",
            "Epoch [35]/[100]. Batch [25]/[25]. Train loss 0.022. Train acc 76.500. Val loss 1.183. Val acc 62.000. Took 6.294 seconds\n",
            "Epoch took 6.29544472694397\n",
            "Epoch [36]/[100]. Batch [25]/[25]. Train loss 0.021. Train acc 77.000. Val loss 1.241. Val acc 59.000. Took 6.325 seconds\n",
            "Epoch took 6.326909065246582\n",
            "Epoch [37]/[100]. Batch [25]/[25]. Train loss 0.020. Train acc 78.875. Val loss 1.269. Val acc 57.000. Took 6.270 seconds\n",
            "Epoch took 6.270940542221069\n",
            "Epoch [38]/[100]. Batch [25]/[25]. Train loss 0.019. Train acc 79.250. Val loss 1.285. Val acc 58.000. Took 6.261 seconds\n",
            "Epoch took 6.262444496154785\n",
            "Epoch [39]/[100]. Batch [25]/[25]. Train loss 0.019. Train acc 76.625. Val loss 1.235. Val acc 61.000. Took 6.234 seconds\n",
            "Epoch took 6.235060214996338\n",
            "Epoch [40]/[100]. Batch [25]/[25]. Train loss 0.018. Train acc 76.875. Val loss 1.238. Val acc 58.000. Took 6.272 seconds\n",
            "Epoch took 6.27348518371582\n",
            "Epoch [41]/[100]. Batch [25]/[25]. Train loss 0.017. Train acc 79.000. Val loss 1.307. Val acc 57.000. Took 6.282 seconds\n",
            "Epoch took 6.283330917358398\n",
            "Epoch [42]/[100]. Batch [25]/[25]. Train loss 0.016. Train acc 78.500. Val loss 1.359. Val acc 56.000. Took 6.261 seconds\n",
            "Epoch took 6.263049364089966\n",
            "Epoch [43]/[100]. Batch [25]/[25]. Train loss 0.016. Train acc 79.500. Val loss 1.210. Val acc 57.000. Took 6.346 seconds\n",
            "Epoch took 6.3471808433532715\n",
            "Epoch [44]/[100]. Batch [25]/[25]. Train loss 0.016. Train acc 76.875. Val loss 1.248. Val acc 53.000. Took 6.292 seconds\n",
            "Epoch took 6.293330192565918\n",
            "Epoch [45]/[100]. Batch [25]/[25]. Train loss 0.015. Train acc 79.500. Val loss 1.322. Val acc 53.000. Took 6.260 seconds\n",
            "Epoch took 6.261564493179321\n",
            "Epoch [46]/[100]. Batch [25]/[25]. Train loss 0.015. Train acc 79.000. Val loss 1.375. Val acc 52.000. Took 6.246 seconds\n",
            "Epoch took 6.247149705886841\n",
            "Epoch [47]/[100]. Batch [25]/[25]. Train loss 0.014. Train acc 80.125. Val loss 1.232. Val acc 58.000. Took 6.311 seconds\n",
            "Epoch took 6.311971187591553\n",
            "Epoch [48]/[100]. Batch [25]/[25]. Train loss 0.013. Train acc 82.375. Val loss 1.241. Val acc 55.000. Took 6.381 seconds\n",
            "Epoch took 6.382840633392334\n",
            "Epoch [49]/[100]. Batch [25]/[25]. Train loss 0.013. Train acc 81.625. Val loss 1.217. Val acc 59.000. Took 6.226 seconds\n",
            "Epoch took 6.227357625961304\n",
            "Epoch [50]/[100]. Batch [25]/[25]. Train loss 0.013. Train acc 80.875. Val loss 1.204. Val acc 62.000. Took 6.271 seconds\n",
            "Epoch took 6.272569894790649\n",
            "Epoch [51]/[100]. Batch [25]/[25]. Train loss 0.013. Train acc 80.000. Val loss 1.256. Val acc 56.000. Took 6.249 seconds\n",
            "Epoch took 6.25002384185791\n",
            "Epoch [52]/[100]. Batch [25]/[25]. Train loss 0.012. Train acc 79.875. Val loss 1.317. Val acc 58.000. Took 6.233 seconds\n",
            "Epoch took 6.235013008117676\n",
            "Epoch [53]/[100]. Batch [25]/[25]. Train loss 0.011. Train acc 82.250. Val loss 1.248. Val acc 55.000. Took 6.265 seconds\n",
            "Epoch took 6.2663843631744385\n",
            "Epoch [54]/[100]. Batch [25]/[25]. Train loss 0.011. Train acc 82.000. Val loss 1.275. Val acc 55.000. Took 6.268 seconds\n",
            "Epoch took 6.268922328948975\n",
            "Epoch [55]/[100]. Batch [25]/[25]. Train loss 0.011. Train acc 81.625. Val loss 1.279. Val acc 57.000. Took 6.240 seconds\n",
            "Epoch took 6.242101669311523\n",
            "Epoch [56]/[100]. Batch [25]/[25]. Train loss 0.011. Train acc 81.375. Val loss 1.283. Val acc 57.000. Took 6.284 seconds\n",
            "Epoch took 6.285059452056885\n",
            "Epoch [57]/[100]. Batch [25]/[25]. Train loss 0.011. Train acc 82.625. Val loss 1.352. Val acc 55.000. Took 6.413 seconds\n",
            "Epoch took 6.41477632522583\n",
            "Epoch [58]/[100]. Batch [25]/[25]. Train loss 0.011. Train acc 83.125. Val loss 1.246. Val acc 58.000. Took 6.290 seconds\n",
            "Epoch took 6.292038202285767\n",
            "Epoch [59]/[100]. Batch [25]/[25]. Train loss 0.010. Train acc 83.250. Val loss 1.250. Val acc 59.000. Took 6.357 seconds\n",
            "Epoch took 6.358480453491211\n",
            "Epoch [60]/[100]. Batch [25]/[25]. Train loss 0.010. Train acc 83.250. Val loss 1.305. Val acc 61.000. Took 6.216 seconds\n",
            "Epoch took 6.216885328292847\n",
            "Epoch [61]/[100]. Batch [25]/[25]. Train loss 0.010. Train acc 81.500. Val loss 1.225. Val acc 61.000. Took 6.243 seconds\n",
            "Epoch took 6.244102954864502\n",
            "Epoch [62]/[100]. Batch [25]/[25]. Train loss 0.009. Train acc 83.750. Val loss 1.251. Val acc 58.000. Took 6.289 seconds\n",
            "Epoch took 6.289974212646484\n",
            "Epoch [63]/[100]. Batch [25]/[25]. Train loss 0.009. Train acc 83.875. Val loss 1.146. Val acc 58.000. Took 6.230 seconds\n",
            "Epoch took 6.23146915435791\n",
            "Epoch [64]/[100]. Batch [25]/[25]. Train loss 0.009. Train acc 81.250. Val loss 1.377. Val acc 58.000. Took 6.232 seconds\n",
            "Epoch took 6.232994794845581\n",
            "Epoch [65]/[100]. Batch [25]/[25]. Train loss 0.009. Train acc 83.000. Val loss 1.294. Val acc 58.000. Took 6.231 seconds\n",
            "Epoch took 6.232021808624268\n",
            "Epoch [66]/[100]. Batch [25]/[25]. Train loss 0.009. Train acc 82.875. Val loss 1.262. Val acc 58.000. Took 6.222 seconds\n",
            "Epoch took 6.223196268081665\n",
            "Epoch [67]/[100]. Batch [25]/[25]. Train loss 0.008. Train acc 83.625. Val loss 1.213. Val acc 57.000. Took 6.285 seconds\n",
            "Epoch took 6.28610634803772\n",
            "Epoch [68]/[100]. Batch [25]/[25]. Train loss 0.008. Train acc 85.125. Val loss 1.322. Val acc 53.000. Took 6.246 seconds\n",
            "Epoch took 6.24719762802124\n",
            "Epoch [69]/[100]. Batch [25]/[25]. Train loss 0.008. Train acc 83.250. Val loss 1.283. Val acc 57.000. Took 6.265 seconds\n",
            "Epoch took 6.2659666538238525\n",
            "Epoch [70]/[100]. Batch [25]/[25]. Train loss 0.008. Train acc 86.125. Val loss 1.218. Val acc 56.000. Took 6.291 seconds\n",
            "Epoch took 6.292258262634277\n",
            "Epoch [71]/[100]. Batch [25]/[25]. Train loss 0.007. Train acc 85.125. Val loss 1.226. Val acc 56.000. Took 6.254 seconds\n",
            "Epoch took 6.255136013031006\n",
            "Epoch [72]/[100]. Batch [25]/[25]. Train loss 0.007. Train acc 85.000. Val loss 1.231. Val acc 54.000. Took 6.254 seconds\n",
            "Epoch took 6.255741119384766\n",
            "Epoch [73]/[100]. Batch [25]/[25]. Train loss 0.007. Train acc 84.500. Val loss 1.230. Val acc 60.000. Took 6.264 seconds\n",
            "Epoch took 6.265077114105225\n",
            "Epoch [74]/[100]. Batch [25]/[25]. Train loss 0.007. Train acc 83.750. Val loss 1.185. Val acc 55.000. Took 6.280 seconds\n",
            "Epoch took 6.281532049179077\n",
            "Epoch [75]/[100]. Batch [25]/[25]. Train loss 0.007. Train acc 86.000. Val loss 1.209. Val acc 56.000. Took 6.278 seconds\n",
            "Epoch took 6.279388427734375\n",
            "Epoch [76]/[100]. Batch [25]/[25]. Train loss 0.007. Train acc 86.750. Val loss 1.254. Val acc 57.000. Took 6.377 seconds\n",
            "Epoch took 6.378479719161987\n",
            "Epoch [77]/[100]. Batch [25]/[25]. Train loss 0.007. Train acc 83.750. Val loss 1.317. Val acc 58.000. Took 6.356 seconds\n",
            "Epoch took 6.3578643798828125\n",
            "Epoch [78]/[100]. Batch [25]/[25]. Train loss 0.006. Train acc 87.125. Val loss 1.384. Val acc 53.000. Took 6.323 seconds\n",
            "Epoch took 6.324220418930054\n",
            "Epoch [79]/[100]. Batch [25]/[25]. Train loss 0.006. Train acc 85.375. Val loss 1.256. Val acc 57.000. Took 6.222 seconds\n",
            "Epoch took 6.22304892539978\n",
            "Epoch [80]/[100]. Batch [25]/[25]. Train loss 0.006. Train acc 86.250. Val loss 1.267. Val acc 59.000. Took 6.239 seconds\n",
            "Epoch took 6.240341663360596\n",
            "Epoch [81]/[100]. Batch [25]/[25]. Train loss 0.006. Train acc 87.000. Val loss 1.270. Val acc 55.000. Took 6.255 seconds\n",
            "Epoch took 6.256676435470581\n",
            "Epoch [82]/[100]. Batch [25]/[25]. Train loss 0.006. Train acc 87.000. Val loss 1.224. Val acc 58.000. Took 6.279 seconds\n",
            "Epoch took 6.28044867515564\n",
            "Epoch [83]/[100]. Batch [25]/[25]. Train loss 0.006. Train acc 86.750. Val loss 1.286. Val acc 59.000. Took 6.292 seconds\n",
            "Epoch took 6.293322324752808\n",
            "Epoch [84]/[100]. Batch [25]/[25]. Train loss 0.006. Train acc 86.375. Val loss 1.236. Val acc 56.000. Took 6.312 seconds\n",
            "Epoch took 6.313246488571167\n",
            "Epoch [85]/[100]. Batch [25]/[25]. Train loss 0.006. Train acc 86.500. Val loss 1.195. Val acc 61.000. Took 6.284 seconds\n",
            "Epoch took 6.2858076095581055\n",
            "Epoch [86]/[100]. Batch [25]/[25]. Train loss 0.006. Train acc 84.625. Val loss 1.234. Val acc 63.000. Took 6.285 seconds\n",
            "Epoch took 6.286412954330444\n",
            "Epoch [87]/[100]. Batch [25]/[25]. Train loss 0.006. Train acc 86.625. Val loss 1.251. Val acc 55.000. Took 6.329 seconds\n",
            "Epoch took 6.330191612243652\n",
            "Epoch [88]/[100]. Batch [25]/[25]. Train loss 0.005. Train acc 86.625. Val loss 1.277. Val acc 55.000. Took 6.282 seconds\n",
            "Epoch took 6.283719778060913\n",
            "Epoch [89]/[100]. Batch [25]/[25]. Train loss 0.005. Train acc 87.375. Val loss 1.274. Val acc 54.000. Took 6.311 seconds\n",
            "Epoch took 6.312270164489746\n",
            "Epoch [90]/[100]. Batch [25]/[25]. Train loss 0.005. Train acc 87.125. Val loss 1.268. Val acc 54.000. Took 6.259 seconds\n",
            "Epoch took 6.260329008102417\n",
            "Epoch [91]/[100]. Batch [25]/[25]. Train loss 0.005. Train acc 87.000. Val loss 1.222. Val acc 57.000. Took 6.286 seconds\n",
            "Epoch took 6.287500381469727\n",
            "Epoch [92]/[100]. Batch [25]/[25]. Train loss 0.005. Train acc 87.125. Val loss 1.313. Val acc 61.000. Took 6.255 seconds\n",
            "Epoch took 6.256825923919678\n",
            "Epoch [93]/[100]. Batch [25]/[25]. Train loss 0.005. Train acc 86.375. Val loss 1.258. Val acc 57.000. Took 6.337 seconds\n",
            "Epoch took 6.338021993637085\n",
            "Epoch [94]/[100]. Batch [25]/[25]. Train loss 0.005. Train acc 89.750. Val loss 1.267. Val acc 60.000. Took 6.328 seconds\n",
            "Epoch took 6.328983783721924\n",
            "Epoch [95]/[100]. Batch [25]/[25]. Train loss 0.005. Train acc 89.125. Val loss 1.208. Val acc 60.000. Took 6.253 seconds\n",
            "Epoch took 6.254692554473877\n",
            "Epoch [96]/[100]. Batch [25]/[25]. Train loss 0.005. Train acc 86.250. Val loss 1.207. Val acc 58.000. Took 6.283 seconds\n",
            "Epoch took 6.284313678741455\n",
            "Epoch [97]/[100]. Batch [25]/[25]. Train loss 0.004. Train acc 89.250. Val loss 1.305. Val acc 57.000. Took 6.245 seconds\n",
            "Epoch took 6.246509313583374\n",
            "Epoch [98]/[100]. Batch [25]/[25]. Train loss 0.005. Train acc 88.000. Val loss 1.309. Val acc 58.000. Took 6.248 seconds\n",
            "Epoch took 6.249708652496338\n",
            "Epoch [99]/[100]. Batch [25]/[25]. Train loss 0.004. Train acc 87.375. Val loss 1.305. Val acc 55.000. Took 6.277 seconds\n",
            "Epoch took 6.278607130050659\n",
            "Epoch [100]/[100]. Batch [25]/[25]. Train loss 0.005. Train acc 86.500. Val loss 1.306. Val acc 57.000. Took 6.292 seconds\n",
            "Epoch took 6.292919874191284\n"
          ]
        }
      ]
    },
    {
      "cell_type": "code",
      "source": [
        "plt.plot(train_losses, label='Training loss')\n",
        "plt.plot(val_losses, label='Validation loss')\n",
        "plt.legend(frameon=False)\n",
        "plt.show()"
      ],
      "metadata": {
        "colab": {
          "base_uri": "https://localhost:8080/",
          "height": 265
        },
        "id": "ANZgyDyf_36-",
        "outputId": "2a8866f8-7186-402e-83e2-f0cb894104ab"
      },
      "execution_count": null,
      "outputs": [
        {
          "output_type": "display_data",
          "data": {
            "text/plain": [
              "<Figure size 432x288 with 1 Axes>"
            ],
            "image/png": "[encoded data removed]"
          },
          "metadata": {
            "needs_background": "light"
          }
        }
      ]
    },
    {
      "cell_type": "code",
      "source": [
        "#Evaluating on Test Set\n",
        "y_test = []\n",
        "y_pred = []\n",
        "for img, label in test_subset:\n",
        "    img = torch.Tensor(img)\n",
        "    img = img.to(device)\n",
        "    resnet18.eval()\n",
        "    prediction = resnet18(img[None])\n",
        "    final_pred = classes[torch.max(prediction, dim=1)[1]]\n",
        "    y_test.append(label)\n",
        "    y_pred.append(genre_dict[final_pred])"
      ],
      "metadata": {
        "id": "nkec7uUe_8i2"
      },
      "execution_count": null,
      "outputs": []
    },
    {
      "cell_type": "code",
      "source": [
        "print(\"Accuracy:\",(100*(np.array(y_test) == np.array(y_pred)).sum()/len(y_test)))"
      ],
      "metadata": {
        "colab": {
          "base_uri": "https://localhost:8080/"
        },
        "id": "9xnixk0_ABbJ",
        "outputId": "cc0a2cf0-1ef3-4b2d-de25-f212ae6c7a01"
      },
      "execution_count": null,
      "outputs": [
        {
          "output_type": "stream",
          "name": "stdout",
          "text": [
            "Accuracy: 71.71717171717172\n"
          ]
        }
      ]
    },
    {
      "cell_type": "markdown",
      "source": [
        "#ResNet50Model"
      ],
      "metadata": {
        "id": "KxpAx-kZFji0"
      }
    },
    {
      "cell_type": "code",
      "source": [
        "# Load a Pretrained Model\n",
        "resnet50 = models.resnet50(pretrained=True)\n",
        "\n",
        "# Fix the trainable parameters\n",
        "for parameter in resnet50.parameters():\n",
        "    parameter.requires_grad = False\n",
        "    \n",
        "    \n",
        "# Number of Input Features in the Last Fully Connected Layer\n",
        "in_features = resnet50.fc.in_features\n",
        "\n",
        "# Replacing the Last Fully Connected Layer\n",
        "fc = nn.Linear(in_features=in_features, out_features=len(classes))\n",
        "resnet50.fc = fc\n",
        "\n",
        "\n",
        "# Updating the Weights and Bias of the last layer\n",
        "params_to_update = []\n",
        "for name, param in resnet50.named_parameters():\n",
        "    if param.requires_grad == True:\n",
        "        params_to_update.append(param)\n",
        "\n",
        "# Define the Loss and Optimizer Functions\n",
        "criterion = nn.CrossEntropyLoss()\n",
        "optimizer = torch.optim.Adam(params_to_update, lr=0.001)"
      ],
      "metadata": {
        "colab": {
          "base_uri": "https://localhost:8080/",
          "height": 123,
          "referenced_widgets": [
            "fc1b7c8ae5fc4e2998d59fa33b4bf193",
            "17bede584217483b8d5e943f83008170",
            "beb014f2f72d46e6b36c1e87fb07ac8a",
            "aac548d6b6c04cdf8b85a8751e96a1bc",
            "cc09da4fb2024f978065a928cc226690",
            "f8ab6f56a7724d328e1374de6b3e5b3b",
            "50ffb51bcea54167ab95a21baf97ee6d",
            "1c46459aaad0483abf10fdf3acd24fc7",
            "ed716d490d7f47dd9cfd3bc4ead52823",
            "05ef81d33e9c4979834d49e0ad6be91a",
            "57f17469a4794eebbf111577d5bf8013"
          ]
        },
        "outputId": "c54a32c9-189c-44f1-d1ab-daafec6afbe2",
        "id": "EsdGwyJ9Ft7e"
      },
      "execution_count": null,
      "outputs": [
        {
          "output_type": "stream",
          "name": "stderr",
          "text": [
            "/usr/local/lib/python3.8/dist-packages/torchvision/models/_utils.py:223: UserWarning: Arguments other than a weight enum or `None` for 'weights' are deprecated since 0.13 and may be removed in the future. The current behavior is equivalent to passing `weights=ResNet50_Weights.IMAGENET1K_V1`. You can also use `weights=ResNet50_Weights.DEFAULT` to get the most up-to-date weights.\n",
            "  warnings.warn(msg)\n",
            "Downloading: \"https://download.pytorch.org/models/resnet50-0676ba61.pth\" to /root/.cache/torch/hub/checkpoints/resnet50-0676ba61.pth\n"
          ]
        },
        {
          "output_type": "display_data",
          "data": {
            "text/plain": [
              "  0%|          | 0.00/97.8M [00:00<?, ?B/s]"
            ],
            "application/vnd.jupyter.widget-view+json": {
              "version_major": 2,
              "version_minor": 0,
              "model_id": "fc1b7c8ae5fc4e2998d59fa33b4bf193"
            }
          },
          "metadata": {}
        }
      ]
    },
    {
      "cell_type": "code",
      "source": [
        "resnet50, train_losses, val_losses = train(\n",
        "    model=resnet50,\n",
        "    criterion=criterion,\n",
        "    optimizer=optimizer,\n",
        "    train_dataloader=train_dataloader,\n",
        "    test_dataloader=val_dataloader,\n",
        "    print_every=25,\n",
        "    num_epoch=100\n",
        ")\n",
        "\n",
        "\n",
        "plt.plot(train_losses, label='Training loss')\n",
        "plt.plot(val_losses, label='Validation loss')\n",
        "plt.legend(frameon=False)\n",
        "plt.show()"
      ],
      "metadata": {
        "colab": {
          "base_uri": "https://localhost:8080/",
          "height": 1000,
          "referenced_widgets": [
            "483ba90f9b9440dbaea20b9483719f15",
            "a0d326d5c2da4d1aa61eefe1ae359f0e",
            "9bbf11f12de6478f8beac78affb4e4df",
            "dc3f5bb8f198472abf0b5087599b2cf8",
            "028d9580771940f9b3077467dbfde89d",
            "bf5a607ff8a548068fe1d3e3ecae71d4",
            "f821b0e023d74e4294e68028c2b1a9b8",
            "b6918315fe4b4903971af359494ee81d",
            "746a085490f544f0b4285429f273c710",
            "13c37185d4754e3d9972f4484571483d",
            "f70e496c2fcd4190a598730e06f81abf"
          ]
        },
        "id": "Ua2dw8TACrII",
        "outputId": "30c8344d-fdfa-4420-aabb-8bf9a642e368"
      },
      "execution_count": null,
      "outputs": [
        {
          "data": {
            "application/vnd.jupyter.widget-view+json": {
              "model_id": "483ba90f9b9440dbaea20b9483719f15",
              "version_major": 2,
              "version_minor": 0
            },
            "text/plain": [
              "  0%|          | 0/100 [00:00<?, ?it/s]"
            ]
          },
          "metadata": {},
          "output_type": "display_data"
        },
        {
          "output_type": "stream",
          "name": "stdout",
          "text": [
            "Epoch [1]/[100]. Batch [25]/[25]. Train loss 2.196. Train acc 22.375. Val loss 2.551. Val acc 20.000. Took 11.202 seconds\n",
            "Epoch took 11.204164743423462\n",
            "Epoch [2]/[100]. Batch [25]/[25]. Train loss 0.867. Train acc 41.625. Val loss 1.798. Val acc 46.000. Took 11.406 seconds\n",
            "Epoch took 11.407089710235596\n",
            "Epoch [3]/[100]. Batch [25]/[25]. Train loss 0.500. Train acc 54.750. Val loss 1.605. Val acc 42.000. Took 11.246 seconds\n",
            "Epoch took 11.247727155685425\n",
            "Epoch [4]/[100]. Batch [25]/[25]. Train loss 0.335. Train acc 60.375. Val loss 1.395. Val acc 51.000. Took 11.074 seconds\n",
            "Epoch took 11.075859785079956\n",
            "Epoch [5]/[100]. Batch [25]/[25]. Train loss 0.253. Train acc 60.375. Val loss 1.484. Val acc 48.000. Took 10.932 seconds\n",
            "Epoch took 10.933789253234863\n",
            "Epoch [6]/[100]. Batch [25]/[25]. Train loss 0.206. Train acc 60.250. Val loss 1.345. Val acc 53.000. Took 10.850 seconds\n",
            "Epoch took 10.851211547851562\n",
            "Epoch [7]/[100]. Batch [25]/[25]. Train loss 0.164. Train acc 66.250. Val loss 1.287. Val acc 58.000. Took 10.854 seconds\n",
            "Epoch took 10.85524320602417\n",
            "Epoch [8]/[100]. Batch [25]/[25]. Train loss 0.136. Train acc 66.375. Val loss 1.411. Val acc 53.000. Took 10.939 seconds\n",
            "Epoch took 10.940877199172974\n",
            "Epoch [9]/[100]. Batch [25]/[25]. Train loss 0.119. Train acc 63.625. Val loss 1.239. Val acc 54.000. Took 11.138 seconds\n",
            "Epoch took 11.139739513397217\n",
            "Epoch [10]/[100]. Batch [25]/[25]. Train loss 0.099. Train acc 70.375. Val loss 1.114. Val acc 62.000. Took 11.111 seconds\n",
            "Epoch took 11.112834930419922\n",
            "Epoch [11]/[100]. Batch [25]/[25]. Train loss 0.086. Train acc 71.000. Val loss 1.173. Val acc 62.000. Took 11.028 seconds\n",
            "Epoch took 11.029666185379028\n",
            "Epoch [12]/[100]. Batch [25]/[25]. Train loss 0.078. Train acc 70.500. Val loss 1.172. Val acc 63.000. Took 10.936 seconds\n",
            "Epoch took 10.937787055969238\n",
            "Epoch [13]/[100]. Batch [25]/[25]. Train loss 0.069. Train acc 72.500. Val loss 1.091. Val acc 61.000. Took 10.916 seconds\n",
            "Epoch took 10.918189525604248\n",
            "Epoch [14]/[100]. Batch [25]/[25]. Train loss 0.064. Train acc 73.000. Val loss 1.075. Val acc 63.000. Took 10.901 seconds\n",
            "Epoch took 10.902855157852173\n",
            "Epoch [15]/[100]. Batch [25]/[25]. Train loss 0.057. Train acc 73.500. Val loss 1.103. Val acc 65.000. Took 11.004 seconds\n",
            "Epoch took 11.00626254081726\n",
            "Epoch [16]/[100]. Batch [25]/[25]. Train loss 0.054. Train acc 74.375. Val loss 1.174. Val acc 65.000. Took 11.042 seconds\n",
            "Epoch took 11.043426275253296\n",
            "Epoch [17]/[100]. Batch [25]/[25]. Train loss 0.049. Train acc 74.000. Val loss 1.225. Val acc 60.000. Took 11.028 seconds\n",
            "Epoch took 11.0296151638031\n",
            "Epoch [18]/[100]. Batch [25]/[25]. Train loss 0.044. Train acc 73.250. Val loss 1.001. Val acc 66.000. Took 11.012 seconds\n",
            "Epoch took 11.012913465499878\n",
            "Epoch [19]/[100]. Batch [25]/[25]. Train loss 0.040. Train acc 77.375. Val loss 1.113. Val acc 61.000. Took 10.976 seconds\n",
            "Epoch took 10.977079629898071\n",
            "Epoch [20]/[100]. Batch [25]/[25]. Train loss 0.037. Train acc 77.375. Val loss 1.027. Val acc 64.000. Took 10.957 seconds\n",
            "Epoch took 10.958384990692139\n",
            "Epoch [21]/[100]. Batch [25]/[25]. Train loss 0.037. Train acc 75.875. Val loss 1.029. Val acc 66.000. Took 10.980 seconds\n",
            "Epoch took 10.981320858001709\n",
            "Epoch [22]/[100]. Batch [25]/[25]. Train loss 0.033. Train acc 78.000. Val loss 1.064. Val acc 63.000. Took 10.970 seconds\n",
            "Epoch took 10.971500158309937\n",
            "Epoch [23]/[100]. Batch [25]/[25]. Train loss 0.032. Train acc 78.000. Val loss 1.087. Val acc 65.000. Took 10.953 seconds\n",
            "Epoch took 10.953916549682617\n",
            "Epoch [24]/[100]. Batch [25]/[25]. Train loss 0.030. Train acc 77.625. Val loss 1.144. Val acc 64.000. Took 11.023 seconds\n",
            "Epoch took 11.025482892990112\n",
            "Epoch [25]/[100]. Batch [25]/[25]. Train loss 0.027. Train acc 79.000. Val loss 0.943. Val acc 62.000. Took 10.987 seconds\n",
            "Epoch took 10.987975120544434\n",
            "Epoch [26]/[100]. Batch [25]/[25]. Train loss 0.026. Train acc 79.250. Val loss 1.083. Val acc 67.000. Took 10.982 seconds\n",
            "Epoch took 10.983404159545898\n",
            "Epoch [27]/[100]. Batch [25]/[25]. Train loss 0.024. Train acc 82.125. Val loss 1.049. Val acc 64.000. Took 10.986 seconds\n",
            "Epoch took 10.987411499023438\n",
            "Epoch [28]/[100]. Batch [25]/[25]. Train loss 0.024. Train acc 78.500. Val loss 1.142. Val acc 62.000. Took 10.927 seconds\n",
            "Epoch took 10.928693056106567\n",
            "Epoch [29]/[100]. Batch [25]/[25]. Train loss 0.023. Train acc 79.375. Val loss 1.175. Val acc 59.000. Took 10.965 seconds\n",
            "Epoch took 10.96686339378357\n",
            "Epoch [30]/[100]. Batch [25]/[25]. Train loss 0.023. Train acc 77.125. Val loss 1.249. Val acc 61.000. Took 10.982 seconds\n",
            "Epoch took 10.983555316925049\n",
            "Epoch [31]/[100]. Batch [25]/[25]. Train loss 0.019. Train acc 82.500. Val loss 1.006. Val acc 63.000. Took 10.992 seconds\n",
            "Epoch took 10.992914199829102\n",
            "Epoch [32]/[100]. Batch [25]/[25]. Train loss 0.021. Train acc 80.250. Val loss 1.111. Val acc 62.000. Took 11.000 seconds\n",
            "Epoch took 11.001522541046143\n",
            "Epoch [33]/[100]. Batch [25]/[25]. Train loss 0.019. Train acc 81.500. Val loss 1.091. Val acc 64.000. Took 10.990 seconds\n",
            "Epoch took 10.99097466468811\n",
            "Epoch [34]/[100]. Batch [25]/[25]. Train loss 0.018. Train acc 82.750. Val loss 1.246. Val acc 62.000. Took 10.958 seconds\n",
            "Epoch took 10.959582567214966\n",
            "Epoch [35]/[100]. Batch [25]/[25]. Train loss 0.016. Train acc 84.250. Val loss 1.113. Val acc 66.000. Took 10.976 seconds\n",
            "Epoch took 10.978360891342163\n",
            "Epoch [36]/[100]. Batch [25]/[25]. Train loss 0.016. Train acc 84.000. Val loss 1.126. Val acc 65.000. Took 10.959 seconds\n",
            "Epoch took 10.960769653320312\n",
            "Epoch [37]/[100]. Batch [25]/[25]. Train loss 0.016. Train acc 82.375. Val loss 1.129. Val acc 63.000. Took 10.932 seconds\n",
            "Epoch took 10.933952569961548\n",
            "Epoch [38]/[100]. Batch [25]/[25]. Train loss 0.015. Train acc 84.125. Val loss 1.106. Val acc 62.000. Took 10.997 seconds\n",
            "Epoch took 10.998374700546265\n",
            "Epoch [39]/[100]. Batch [25]/[25]. Train loss 0.014. Train acc 85.125. Val loss 1.065. Val acc 68.000. Took 11.014 seconds\n",
            "Epoch took 11.015722036361694\n",
            "Epoch [40]/[100]. Batch [25]/[25]. Train loss 0.014. Train acc 82.375. Val loss 1.016. Val acc 63.000. Took 10.984 seconds\n",
            "Epoch took 10.98548173904419\n",
            "Epoch [41]/[100]. Batch [25]/[25]. Train loss 0.013. Train acc 83.750. Val loss 1.201. Val acc 63.000. Took 10.976 seconds\n",
            "Epoch took 10.978269577026367\n",
            "Epoch [42]/[100]. Batch [25]/[25]. Train loss 0.012. Train acc 86.375. Val loss 1.054. Val acc 64.000. Took 10.958 seconds\n",
            "Epoch took 10.959875345230103\n",
            "Epoch [43]/[100]. Batch [25]/[25]. Train loss 0.012. Train acc 85.625. Val loss 1.113. Val acc 60.000. Took 10.982 seconds\n",
            "Epoch took 10.983396530151367\n",
            "Epoch [44]/[100]. Batch [25]/[25]. Train loss 0.012. Train acc 84.375. Val loss 1.125. Val acc 64.000. Took 10.965 seconds\n",
            "Epoch took 10.966412782669067\n",
            "Epoch [45]/[100]. Batch [25]/[25]. Train loss 0.011. Train acc 85.625. Val loss 1.074. Val acc 67.000. Took 10.953 seconds\n",
            "Epoch took 10.954403400421143\n",
            "Epoch [46]/[100]. Batch [25]/[25]. Train loss 0.011. Train acc 86.375. Val loss 1.142. Val acc 62.000. Took 11.004 seconds\n",
            "Epoch took 11.005778312683105\n",
            "Epoch [47]/[100]. Batch [25]/[25]. Train loss 0.011. Train acc 85.125. Val loss 1.120. Val acc 66.000. Took 10.956 seconds\n",
            "Epoch took 10.957722425460815\n",
            "Epoch [48]/[100]. Batch [25]/[25]. Train loss 0.011. Train acc 85.750. Val loss 1.111. Val acc 62.000. Took 10.963 seconds\n",
            "Epoch took 10.964655637741089\n",
            "Epoch [49]/[100]. Batch [25]/[25]. Train loss 0.010. Train acc 85.375. Val loss 1.098. Val acc 64.000. Took 10.980 seconds\n",
            "Epoch took 10.981196641921997\n",
            "Epoch [50]/[100]. Batch [25]/[25]. Train loss 0.010. Train acc 86.375. Val loss 1.272. Val acc 64.000. Took 10.927 seconds\n",
            "Epoch took 10.928329467773438\n",
            "Epoch [51]/[100]. Batch [25]/[25]. Train loss 0.010. Train acc 83.375. Val loss 1.049. Val acc 64.000. Took 10.925 seconds\n",
            "Epoch took 10.926055669784546\n",
            "Epoch [52]/[100]. Batch [25]/[25]. Train loss 0.009. Train acc 87.250. Val loss 1.187. Val acc 60.000. Took 10.935 seconds\n",
            "Epoch took 10.936128377914429\n",
            "Epoch [53]/[100]. Batch [25]/[25]. Train loss 0.009. Train acc 87.125. Val loss 1.007. Val acc 63.000. Took 10.982 seconds\n",
            "Epoch took 10.983261346817017\n",
            "Epoch [54]/[100]. Batch [25]/[25]. Train loss 0.008. Train acc 87.250. Val loss 1.119. Val acc 65.000. Took 10.982 seconds\n",
            "Epoch took 10.983853816986084\n",
            "Epoch [55]/[100]. Batch [25]/[25]. Train loss 0.008. Train acc 88.625. Val loss 1.166. Val acc 66.000. Took 10.977 seconds\n",
            "Epoch took 10.978145360946655\n",
            "Epoch [56]/[100]. Batch [25]/[25]. Train loss 0.008. Train acc 89.000. Val loss 1.126. Val acc 64.000. Took 10.972 seconds\n",
            "Epoch took 10.973059892654419\n",
            "Epoch [57]/[100]. Batch [25]/[25]. Train loss 0.008. Train acc 88.875. Val loss 1.111. Val acc 62.000. Took 10.998 seconds\n",
            "Epoch took 10.999128341674805\n",
            "Epoch [58]/[100]. Batch [25]/[25]. Train loss 0.008. Train acc 87.625. Val loss 1.155. Val acc 64.000. Took 10.929 seconds\n",
            "Epoch took 10.931115627288818\n",
            "Epoch [59]/[100]. Batch [25]/[25]. Train loss 0.007. Train acc 89.625. Val loss 1.127. Val acc 63.000. Took 10.959 seconds\n",
            "Epoch took 10.960769653320312\n",
            "Epoch [60]/[100]. Batch [25]/[25]. Train loss 0.007. Train acc 89.625. Val loss 1.116. Val acc 64.000. Took 10.992 seconds\n",
            "Epoch took 10.992939472198486\n",
            "Epoch [61]/[100]. Batch [25]/[25]. Train loss 0.006. Train acc 89.125. Val loss 1.147. Val acc 62.000. Took 11.002 seconds\n",
            "Epoch took 11.003725528717041\n",
            "Epoch [62]/[100]. Batch [25]/[25]. Train loss 0.007. Train acc 87.125. Val loss 0.999. Val acc 66.000. Took 10.947 seconds\n",
            "Epoch took 10.948641777038574\n",
            "Epoch [63]/[100]. Batch [25]/[25]. Train loss 0.007. Train acc 88.125. Val loss 1.026. Val acc 63.000. Took 10.958 seconds\n",
            "Epoch took 10.959559202194214\n",
            "Epoch [64]/[100]. Batch [25]/[25]. Train loss 0.007. Train acc 88.125. Val loss 1.090. Val acc 67.000. Took 10.935 seconds\n",
            "Epoch took 10.936784267425537\n",
            "Epoch [65]/[100]. Batch [25]/[25]. Train loss 0.006. Train acc 89.875. Val loss 1.148. Val acc 60.000. Took 10.975 seconds\n",
            "Epoch took 10.976757526397705\n",
            "Epoch [66]/[100]. Batch [25]/[25]. Train loss 0.006. Train acc 87.875. Val loss 1.158. Val acc 64.000. Took 10.949 seconds\n",
            "Epoch took 10.95087742805481\n",
            "Epoch [67]/[100]. Batch [25]/[25]. Train loss 0.006. Train acc 88.750. Val loss 1.157. Val acc 67.000. Took 10.914 seconds\n",
            "Epoch took 10.915045261383057\n",
            "Epoch [68]/[100]. Batch [25]/[25]. Train loss 0.005. Train acc 90.375. Val loss 1.133. Val acc 66.000. Took 10.969 seconds\n",
            "Epoch took 10.970590591430664\n",
            "Epoch [69]/[100]. Batch [25]/[25]. Train loss 0.005. Train acc 91.750. Val loss 1.071. Val acc 63.000. Took 10.947 seconds\n",
            "Epoch took 10.947938442230225\n",
            "Epoch [70]/[100]. Batch [25]/[25]. Train loss 0.005. Train acc 90.125. Val loss 1.056. Val acc 67.000. Took 10.954 seconds\n",
            "Epoch took 10.954956293106079\n",
            "Epoch [71]/[100]. Batch [25]/[25]. Train loss 0.005. Train acc 89.375. Val loss 1.064. Val acc 66.000. Took 10.953 seconds\n",
            "Epoch took 10.95398736000061\n",
            "Epoch [72]/[100]. Batch [25]/[25]. Train loss 0.005. Train acc 90.375. Val loss 0.977. Val acc 64.000. Took 10.953 seconds\n",
            "Epoch took 10.954155445098877\n",
            "Epoch [73]/[100]. Batch [25]/[25]. Train loss 0.005. Train acc 91.125. Val loss 1.102. Val acc 65.000. Took 10.981 seconds\n",
            "Epoch took 10.98221492767334\n",
            "Epoch [74]/[100]. Batch [25]/[25]. Train loss 0.005. Train acc 89.875. Val loss 1.292. Val acc 63.000. Took 10.970 seconds\n",
            "Epoch took 10.970947265625\n",
            "Epoch [75]/[100]. Batch [25]/[25]. Train loss 0.005. Train acc 89.750. Val loss 1.063. Val acc 65.000. Took 10.931 seconds\n",
            "Epoch took 10.932848691940308\n",
            "Epoch [76]/[100]. Batch [25]/[25]. Train loss 0.005. Train acc 92.000. Val loss 1.169. Val acc 67.000. Took 10.994 seconds\n",
            "Epoch took 10.99556827545166\n",
            "Epoch [77]/[100]. Batch [25]/[25]. Train loss 0.005. Train acc 90.750. Val loss 1.129. Val acc 63.000. Took 10.971 seconds\n",
            "Epoch took 10.972774028778076\n",
            "Epoch [78]/[100]. Batch [25]/[25]. Train loss 0.004. Train acc 90.875. Val loss 1.309. Val acc 65.000. Took 10.953 seconds\n",
            "Epoch took 10.955031633377075\n",
            "Epoch [79]/[100]. Batch [25]/[25]. Train loss 0.004. Train acc 89.750. Val loss 0.999. Val acc 64.000. Took 11.078 seconds\n",
            "Epoch took 11.079895257949829\n",
            "Epoch [80]/[100]. Batch [25]/[25]. Train loss 0.004. Train acc 93.125. Val loss 1.077. Val acc 65.000. Took 11.008 seconds\n",
            "Epoch took 11.009044170379639\n",
            "Epoch [81]/[100]. Batch [25]/[25]. Train loss 0.004. Train acc 93.125. Val loss 1.121. Val acc 66.000. Took 10.986 seconds\n",
            "Epoch took 10.987385511398315\n",
            "Epoch [82]/[100]. Batch [25]/[25]. Train loss 0.004. Train acc 92.000. Val loss 1.211. Val acc 65.000. Took 10.982 seconds\n",
            "Epoch took 10.983444690704346\n",
            "Epoch [83]/[100]. Batch [25]/[25]. Train loss 0.004. Train acc 92.250. Val loss 1.211. Val acc 65.000. Took 10.972 seconds\n",
            "Epoch took 10.973849058151245\n",
            "Epoch [84]/[100]. Batch [25]/[25]. Train loss 0.004. Train acc 93.000. Val loss 1.233. Val acc 64.000. Took 10.949 seconds\n",
            "Epoch took 10.949973344802856\n",
            "Epoch [85]/[100]. Batch [25]/[25]. Train loss 0.004. Train acc 91.875. Val loss 1.064. Val acc 65.000. Took 10.928 seconds\n",
            "Epoch took 10.929179668426514\n",
            "Epoch [86]/[100]. Batch [25]/[25]. Train loss 0.004. Train acc 92.500. Val loss 1.213. Val acc 64.000. Took 10.950 seconds\n",
            "Epoch took 10.951730728149414\n",
            "Epoch [87]/[100]. Batch [25]/[25]. Train loss 0.004. Train acc 92.500. Val loss 1.265. Val acc 66.000. Took 10.978 seconds\n",
            "Epoch took 10.979170083999634\n",
            "Epoch [88]/[100]. Batch [25]/[25]. Train loss 0.003. Train acc 94.250. Val loss 1.210. Val acc 64.000. Took 10.932 seconds\n",
            "Epoch took 10.932719707489014\n",
            "Epoch [89]/[100]. Batch [25]/[25]. Train loss 0.004. Train acc 92.500. Val loss 1.260. Val acc 61.000. Took 11.002 seconds\n",
            "Epoch took 11.003313302993774\n",
            "Epoch [90]/[100]. Batch [25]/[25]. Train loss 0.004. Train acc 90.750. Val loss 1.104. Val acc 64.000. Took 11.040 seconds\n",
            "Epoch took 11.041175842285156\n",
            "Epoch [91]/[100]. Batch [25]/[25]. Train loss 0.004. Train acc 90.875. Val loss 1.182. Val acc 63.000. Took 11.054 seconds\n",
            "Epoch took 11.055335521697998\n",
            "Epoch [92]/[100]. Batch [25]/[25]. Train loss 0.003. Train acc 91.875. Val loss 1.127. Val acc 65.000. Took 11.041 seconds\n",
            "Epoch took 11.042286157608032\n",
            "Epoch [93]/[100]. Batch [25]/[25]. Train loss 0.003. Train acc 94.625. Val loss 1.150. Val acc 63.000. Took 11.015 seconds\n",
            "Epoch took 11.016669511795044\n",
            "Epoch [94]/[100]. Batch [25]/[25]. Train loss 0.003. Train acc 93.125. Val loss 1.203. Val acc 64.000. Took 10.975 seconds\n",
            "Epoch took 10.975899696350098\n",
            "Epoch [95]/[100]. Batch [25]/[25]. Train loss 0.003. Train acc 94.250. Val loss 1.209. Val acc 67.000. Took 10.963 seconds\n",
            "Epoch took 10.964720487594604\n",
            "Epoch [96]/[100]. Batch [25]/[25]. Train loss 0.003. Train acc 90.625. Val loss 1.187. Val acc 67.000. Took 10.973 seconds\n",
            "Epoch took 10.974324703216553\n",
            "Epoch [97]/[100]. Batch [25]/[25]. Train loss 0.003. Train acc 92.000. Val loss 1.282. Val acc 64.000. Took 11.006 seconds\n",
            "Epoch took 11.008023500442505\n",
            "Epoch [98]/[100]. Batch [25]/[25]. Train loss 0.003. Train acc 93.125. Val loss 1.074. Val acc 64.000. Took 11.007 seconds\n",
            "Epoch took 11.008710384368896\n",
            "Epoch [99]/[100]. Batch [25]/[25]. Train loss 0.003. Train acc 93.500. Val loss 1.243. Val acc 65.000. Took 10.975 seconds\n",
            "Epoch took 10.976440191268921\n",
            "Epoch [100]/[100]. Batch [25]/[25]. Train loss 0.003. Train acc 94.875. Val loss 1.109. Val acc 63.000. Took 10.943 seconds\n",
            "Epoch took 10.944231510162354\n"
          ]
        },
        {
          "output_type": "display_data",
          "data": {
            "text/plain": [
              "<Figure size 432x288 with 1 Axes>"
            ],
            "image/png": "[encoded data removed]"
          },
          "metadata": {
            "needs_background": "light"
          }
        }
      ]
    },
    {
      "cell_type": "code",
      "source": [
        "print(\"Accuracy:\",(100*(np.array(y_test) == np.array(y_pred)).sum()/len(y_test)))"
      ],
      "metadata": {
        "colab": {
          "base_uri": "https://localhost:8080/"
        },
        "outputId": "f45b0cf6-faf6-426a-87c9-f8ed7c2caf12",
        "id": "Em5kCp4RIaK-"
      },
      "execution_count": null,
      "outputs": [
        {
          "output_type": "stream",
          "name": "stdout",
          "text": [
            "Accuracy: 67.67676767676768\n"
          ]
        }
      ]
    },
    {
      "cell_type": "markdown",
      "source": [
        "ResNet50 performs worse than ResNet18 with the same hyperparameters due to overfitting on the training sample."
      ],
      "metadata": {
        "id": "P4WTG7kLIuHb"
      }
    },
    {
      "cell_type": "markdown",
      "source": [
        "#VGG Model"
      ],
      "metadata": {
        "id": "PN7-Dr9YGpvi"
      }
    },
    {
      "cell_type": "code",
      "source": [
        "model_vgg16 = models.vgg16(pretrained=True)\n",
        "# Fix the trainable parameters\n",
        "for parameter in model_vgg16.parameters():\n",
        "    parameter.requires_grad = False\n",
        "    \n",
        "# Updating the Weights and Bias of the last layer\n",
        "params_to_update = []\n",
        "for name, param in model_vgg16.named_parameters():\n",
        "    if param.requires_grad == True:\n",
        "        params_to_update.append(param)\n",
        "    \n",
        "num_ftrs = model_vgg16.classifier[6].in_features\n",
        "model_vgg16.classifier[6] = nn.Linear(num_ftrs,10)\n",
        "\n",
        "# Define the Loss and Optimizer Functions\n",
        "criterion = nn.CrossEntropyLoss()\n",
        "#optimizer = torch.optim.SGD(params_to_update, lr=0.001)\n",
        "optimizer = torch.optim.SGD(model_vgg16.parameters(), lr=0.01, momentum=0.9)"
      ],
      "metadata": {
        "colab": {
          "base_uri": "https://localhost:8080/",
          "height": 123,
          "referenced_widgets": [
            "64846942f03346faa32554f287e72966",
            "c4cee2a7480241afb13ae5f0333bcd77",
            "30d5c3d1b1dd428781c94e6fe5125a8b",
            "95b15e2ba9b84a8c829eff858437695f",
            "8675f3ff28f44659b28b522e2d85071f",
            "221261d6700948a898b98591584b7319",
            "42fe9164d8264aafb089ad0e4abc8fbb",
            "bb4b258a012845e3bcf174ca29b6daf8",
            "50c1e4b0213f47f8ae150756cc591652",
            "ed54d3f05b1b408b9be2c83745250844",
            "fecc882a2d7947f1b94e56bb5d400f0c"
          ]
        },
        "outputId": "c912cb0d-6de1-4f1a-9620-ed7053fbe551",
        "id": "jD-3UDZ8JUI0"
      },
      "execution_count": null,
      "outputs": [
        {
          "output_type": "stream",
          "name": "stderr",
          "text": [
            "/usr/local/lib/python3.8/dist-packages/torchvision/models/_utils.py:223: UserWarning: Arguments other than a weight enum or `None` for 'weights' are deprecated since 0.13 and may be removed in the future. The current behavior is equivalent to passing `weights=VGG16_Weights.IMAGENET1K_V1`. You can also use `weights=VGG16_Weights.DEFAULT` to get the most up-to-date weights.\n",
            "  warnings.warn(msg)\n",
            "Downloading: \"https://download.pytorch.org/models/vgg16-397923af.pth\" to /root/.cache/torch/hub/checkpoints/vgg16-397923af.pth\n"
          ]
        },
        {
          "output_type": "display_data",
          "data": {
            "text/plain": [
              "  0%|          | 0.00/528M [00:00<?, ?B/s]"
            ],
            "application/vnd.jupyter.widget-view+json": {
              "version_major": 2,
              "version_minor": 0,
              "model_id": "64846942f03346faa32554f287e72966"
            }
          },
          "metadata": {}
        }
      ]
    },
    {
      "cell_type": "code",
      "source": [
        "y_test = []\n",
        "y_pred = []\n",
        "for img, label in test_subset:\n",
        "    img = torch.Tensor(img)\n",
        "    img = img.to(device)\n",
        "    model_vgg16.eval()\n",
        "    prediction = model_vgg16(img[None])\n",
        "    \n",
        "    final_pred = classes[torch.max(prediction, dim=1)[1]]\n",
        "    \n",
        "    y_test.append(label)\n",
        "    y_pred.append(genre_dict[final_pred])"
      ],
      "metadata": {
        "id": "hAb59JbHvA3b"
      },
      "execution_count": null,
      "outputs": []
    },
    {
      "cell_type": "code",
      "source": [
        "print(\"Accuracy:\",(100*(np.array(y_test) == np.array(y_pred)).sum()/len(y_test)))"
      ],
      "metadata": {
        "colab": {
          "base_uri": "https://localhost:8080/"
        },
        "id": "p1XJMbT0KNyn",
        "outputId": "497e4b45-77a2-43d5-8822-643ba21ebcc5"
      },
      "execution_count": null,
      "outputs": [
        {
          "output_type": "stream",
          "name": "stdout",
          "text": [
            "Accuracy: 53.535353535353536\n"
          ]
        }
      ]
    },
    {
      "cell_type": "markdown",
      "source": [
        "VGG16 appears to not perform well in the music classiiciation task with the inputted hyperparameters."
      ],
      "metadata": {
        "id": "QX7V4XXhTC7U"
      }
    }
  ]
}