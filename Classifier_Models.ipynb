{
  "metadata": {
    "kernelspec": {
      "language": "python",
      "display_name": "Python 3",
      "name": "python3"
    },
    "language_info": {
      "pygments_lexer": "ipython3",
      "nbconvert_exporter": "python",
      "version": "3.6.4",
      "file_extension": ".py",
      "codemirror_mode": {
        "name": "ipython",
        "version": 3
      },
      "name": "python",
      "mimetype": "text/x-python"
    },
    "colab": {
      "provenance": []
    }
  },
  "nbformat_minor": 0,
  "nbformat": 4,
  "cells": [
    {
      "cell_type": "markdown",
      "source": [
        "#Installing and Importing all Necessary Packages"
      ],
      "metadata": {
        "id": "lyEYtnLi9k-N"
      }
    },
    {
      "cell_type": "code",
      "source": [
        "!pip install tensorflow_addons\n",
        "!pip install eli5"
      ],
      "metadata": {
        "id": "L0P8DqnK95sj",
        "outputId": "b590d592-64d3-474d-e09f-64ea0c6bddd0",
        "colab": {
          "base_uri": "https://localhost:8080/"
        }
      },
      "execution_count": 1,
      "outputs": [
        {
          "output_type": "stream",
          "name": "stdout",
          "text": [
            "Looking in indexes: https://pypi.org/simple, https://us-python.pkg.dev/colab-wheels/public/simple/\n",
            "Collecting tensorflow_addons\n",
            "  Downloading tensorflow_addons-0.19.0-cp38-cp38-manylinux_2_17_x86_64.manylinux2014_x86_64.whl (1.1 MB)\n",
            "\u001b[K     |████████████████████████████████| 1.1 MB 27.3 MB/s \n",
            "\u001b[?25hRequirement already satisfied: typeguard>=2.7 in /usr/local/lib/python3.8/dist-packages (from tensorflow_addons) (2.7.1)\n",
            "Requirement already satisfied: packaging in /usr/local/lib/python3.8/dist-packages (from tensorflow_addons) (21.3)\n",
            "Requirement already satisfied: pyparsing!=3.0.5,>=2.0.2 in /usr/local/lib/python3.8/dist-packages (from packaging->tensorflow_addons) (3.0.9)\n",
            "Installing collected packages: tensorflow-addons\n",
            "Successfully installed tensorflow-addons-0.19.0\n",
            "Looking in indexes: https://pypi.org/simple, https://us-python.pkg.dev/colab-wheels/public/simple/\n",
            "Collecting eli5\n",
            "  Downloading eli5-0.13.0.tar.gz (216 kB)\n",
            "\u001b[K     |████████████████████████████████| 216 kB 25.7 MB/s \n",
            "\u001b[?25hRequirement already satisfied: attrs>17.1.0 in /usr/local/lib/python3.8/dist-packages (from eli5) (22.1.0)\n",
            "Collecting jinja2>=3.0.0\n",
            "  Downloading Jinja2-3.1.2-py3-none-any.whl (133 kB)\n",
            "\u001b[K     |████████████████████████████████| 133 kB 60.9 MB/s \n",
            "\u001b[?25hRequirement already satisfied: numpy>=1.9.0 in /usr/local/lib/python3.8/dist-packages (from eli5) (1.21.6)\n",
            "Requirement already satisfied: scipy in /usr/local/lib/python3.8/dist-packages (from eli5) (1.7.3)\n",
            "Requirement already satisfied: six in /usr/local/lib/python3.8/dist-packages (from eli5) (1.15.0)\n",
            "Requirement already satisfied: scikit-learn>=0.20 in /usr/local/lib/python3.8/dist-packages (from eli5) (1.0.2)\n",
            "Requirement already satisfied: graphviz in /usr/local/lib/python3.8/dist-packages (from eli5) (0.10.1)\n",
            "Requirement already satisfied: tabulate>=0.7.7 in /usr/local/lib/python3.8/dist-packages (from eli5) (0.8.10)\n",
            "Requirement already satisfied: MarkupSafe>=2.0 in /usr/local/lib/python3.8/dist-packages (from jinja2>=3.0.0->eli5) (2.0.1)\n",
            "Requirement already satisfied: threadpoolctl>=2.0.0 in /usr/local/lib/python3.8/dist-packages (from scikit-learn>=0.20->eli5) (3.1.0)\n",
            "Requirement already satisfied: joblib>=0.11 in /usr/local/lib/python3.8/dist-packages (from scikit-learn>=0.20->eli5) (1.2.0)\n",
            "Building wheels for collected packages: eli5\n",
            "  Building wheel for eli5 (setup.py) ... \u001b[?25l\u001b[?25hdone\n",
            "  Created wheel for eli5: filename=eli5-0.13.0-py2.py3-none-any.whl size=107748 sha256=a6703b6b12b0e25af97646ee0ce64e5c669aace84705d92b10663fa0c3f16ff0\n",
            "  Stored in directory: /root/.cache/pip/wheels/85/ac/25/ffcd87ef8f9b1eec324fdf339359be71f22612459d8c75d89c\n",
            "Successfully built eli5\n",
            "Installing collected packages: jinja2, eli5\n",
            "  Attempting uninstall: jinja2\n",
            "    Found existing installation: Jinja2 2.11.3\n",
            "    Uninstalling Jinja2-2.11.3:\n",
            "      Successfully uninstalled Jinja2-2.11.3\n",
            "\u001b[31mERROR: pip's dependency resolver does not currently take into account all the packages that are installed. This behaviour is the source of the following dependency conflicts.\n",
            "notebook 5.7.16 requires jinja2<=3.0.0, but you have jinja2 3.1.2 which is incompatible.\n",
            "flask 1.1.4 requires Jinja2<3.0,>=2.10.1, but you have jinja2 3.1.2 which is incompatible.\u001b[0m\n",
            "Successfully installed eli5-0.13.0 jinja2-3.1.2\n"
          ]
        }
      ]
    },
    {
      "cell_type": "code",
      "source": [
        "import pandas as pd\n",
        "import numpy as np\n",
        "\n",
        "import seaborn as sns\n",
        "import matplotlib.pyplot as plt\n",
        "%matplotlib inline\n",
        "\n",
        "import sklearn\n",
        "from sklearn.naive_bayes import GaussianNB\n",
        "from sklearn.linear_model import SGDClassifier, LogisticRegression\n",
        "from sklearn.neighbors import KNeighborsClassifier\n",
        "from sklearn.tree import DecisionTreeClassifier\n",
        "from sklearn.ensemble import RandomForestClassifier, AdaBoostClassifier\n",
        "from sklearn.svm import SVC\n",
        "from sklearn.neural_network import MLPClassifier\n",
        "from xgboost import XGBClassifier, XGBRFClassifier\n",
        "from xgboost import plot_tree, plot_importance\n",
        "from sklearn.metrics import confusion_matrix, accuracy_score, roc_auc_score, roc_curve\n",
        "from sklearn.decomposition import PCA\n",
        "from sklearn import preprocessing\n",
        "from sklearn.model_selection import train_test_split\n",
        "from sklearn.feature_selection import RFE\n",
        "from sklearn.metrics.pairwise import cosine_similarity\n",
        "\n",
        "import keras\n",
        "from tensorflow import keras\n",
        "from keras import Sequential\n",
        "from keras import layers\n",
        "import tensorflow as tf\n",
        "import tensorflow_addons as tfa\n",
        "from tensorflow.keras.preprocessing import image_dataset_from_directory\n",
        "from keras.utils.vis_utils import plot_model\n",
        "from tensorflow.keras import Sequential, Input\n",
        "from tensorflow.keras.utils import to_categorical\n",
        "from tensorflow.keras.layers import Dense, Dropout,SeparableConv2D, Activation, BatchNormalization, Flatten, GlobalAveragePooling2D, Conv2D, MaxPooling2D\n",
        "from tensorflow.keras.layers import Conv2D, Flatten\n",
        "from tensorflow.keras.callbacks import ReduceLROnPlateau,EarlyStopping, ModelCheckpoint\n",
        "from tensorflow.keras.applications.inception_v3 import InceptionV3\n",
        "from tensorflow.keras.preprocessing.image import ImageDataGenerator as IDG\n",
        "\n",
        "import librosa\n",
        "import librosa.display\n",
        "import IPython.display as ipd\n",
        "\n",
        "import eli5\n",
        "from eli5.sklearn import PermutationImportance\n",
        "\n",
        "import os\n",
        "import warnings\n",
        "warnings.filterwarnings('ignore')"
      ],
      "metadata": {
        "execution": {
          "iopub.status.busy": "2022-12-13T23:03:49.210294Z",
          "iopub.execute_input": "2022-12-13T23:03:49.210561Z",
          "iopub.status.idle": "2022-12-13T23:03:58.434573Z",
          "shell.execute_reply.started": "2022-12-13T23:03:49.21053Z",
          "shell.execute_reply": "2022-12-13T23:03:58.43378Z"
        },
        "trusted": true,
        "id": "i60kYDxI9k-R"
      },
      "execution_count": 2,
      "outputs": []
    },
    {
      "cell_type": "markdown",
      "source": [
        "#Downloading Data"
      ],
      "metadata": {
        "id": "8zNai63hNtkv"
      }
    },
    {
      "cell_type": "code",
      "source": [
        "import requests\n",
        "\n",
        "fname = \"music.zip\"\n",
        "url = \"https://osf.io/drjhb/download\"\n",
        "\n",
        "if not os.path.isfile(fname):\n",
        "  try:\n",
        "    r = requests.get(url)\n",
        "  except requests.ConnectionError:\n",
        "    print(\"!!! Failed to download data !!!\")\n",
        "  else:\n",
        "    if r.status_code != requests.codes.ok:\n",
        "      print(\"!!! Failed to download data !!!\")\n",
        "    else:\n",
        "      with open(fname, \"wb\") as fid:\n",
        "        fid.write(r.content)"
      ],
      "metadata": {
        "id": "6Eu-2Y9Z-dRC"
      },
      "execution_count": 3,
      "outputs": []
    },
    {
      "cell_type": "code",
      "source": [
        "from zipfile import ZipFile\n",
        "\n",
        "with ZipFile(fname, 'r') as zipObj:\n",
        "  # Extract all the contents of zip file in different directory\n",
        "  zipObj.extractall()"
      ],
      "metadata": {
        "id": "1-OqPreg-el8"
      },
      "execution_count": 4,
      "outputs": []
    },
    {
      "cell_type": "code",
      "source": [
        "dir_ = 'Data'\n",
        "df = pd.read_csv('Data/features_3_sec.csv')\n",
        "df = df.iloc[0:, 1:] "
      ],
      "metadata": {
        "id": "5LSeGWKAPBP_"
      },
      "execution_count": 22,
      "outputs": []
    },
    {
      "cell_type": "code",
      "source": [
        "y = df['label']\n",
        "X = df.loc[:, df.columns != 'label']\n",
        "\n",
        "cols = X.columns\n",
        "scaler = preprocessing.MinMaxScaler()\n",
        "np_scaled = scaler.fit_transform(X)\n",
        "\n",
        "X = pd.DataFrame(np_scaled, columns = cols)"
      ],
      "metadata": {
        "id": "QRx2ZpDUPZnK"
      },
      "execution_count": 23,
      "outputs": []
    },
    {
      "cell_type": "code",
      "source": [
        "X_train, X_test, y_train, y_test = train_test_split(X, y, test_size=0.3, random_state=42)"
      ],
      "metadata": {
        "id": "vuPsgOlxPkA5"
      },
      "execution_count": 24,
      "outputs": []
    },
    {
      "cell_type": "markdown",
      "source": [
        "#Implementing and Running Various Classification Models"
      ],
      "metadata": {
        "id": "BE1gK13NP4MT"
      }
    },
    {
      "cell_type": "code",
      "source": [
        "def model_assess(model, title = \"Default\"):\n",
        "    model.fit(X_train, y_train)\n",
        "    preds = model.predict(X_test)\n",
        "    print(confusion_matrix(y_test, preds))\n",
        "    print('Accuracy', title, ':', round(accuracy_score(y_test, preds), 5), '\\n')"
      ],
      "metadata": {
        "id": "dIhGLMkNaMTp"
      },
      "execution_count": 25,
      "outputs": []
    },
    {
      "cell_type": "code",
      "source": [
        "lg = LogisticRegression(random_state=0, solver='lbfgs', multi_class='multinomial')\n",
        "lg.fit(X_train, y_train)\n",
        "preds = lg.predict(X_test)\n",
        "print(confusion_matrix(y_test, preds))\n",
        "print('Accuracy', 'Logistic Regression', ':', round(accuracy_score(y_test, preds), 5), '\\n')\n",
        "\n",
        "sgd = SGDClassifier(max_iter=5000, random_state=0)\n",
        "sgd.fit(X_train, y_train)\n",
        "preds = sgd.predict(X_test)\n",
        "print(confusion_matrix(y_test, preds))\n",
        "print('Accuracy', 'Stochastic Gradient Descent', ':', round(accuracy_score(y_test, preds), 5), '\\n')\n",
        "\n",
        "knn = KNeighborsClassifier(n_neighbors=19)\n",
        "knn.fit(X_train, y_train)\n",
        "preds = knn.predict(X_test)\n",
        "print(confusion_matrix(y_test, preds))\n",
        "print('Accuracy', 'KNN', ':', round(accuracy_score(y_test, preds), 5), '\\n')\n",
        "\n",
        "tree = DecisionTreeClassifier()\n",
        "tree.fit(X_train, y_train)\n",
        "preds = tree.predict(X_test)\n",
        "print(confusion_matrix(y_test, preds))\n",
        "print('Accuracy', 'Decision Tree Classifier', ':', round(accuracy_score(y_test, preds), 5), '\\n')\n",
        "\n",
        "rforest = RandomForestClassifier(n_estimators=1000, max_depth=10, random_state=0)\n",
        "rforest.fit(X_train, y_train)\n",
        "preds = rforest.predict(X_test)\n",
        "print(confusion_matrix(y_test, preds))\n",
        "print('Accuracy', 'Random Forest Classifier', ':', round(accuracy_score(y_test, preds), 5), '\\n')\n",
        "\n",
        "svm = SVC(decision_function_shape=\"ovo\")\n",
        "svm.fit(X_train, y_train)\n",
        "preds = svm.predict(X_test)\n",
        "print(confusion_matrix(y_test, preds))\n",
        "print('Accuracy', 'Support Vector Maching', ':', round(accuracy_score(y_test, preds), 5), '\\n')\n",
        "\n",
        "ada = AdaBoostClassifier(n_estimators=1000)\n",
        "ada.fit(X_train, y_train)\n",
        "preds = ada.predict(X_test)\n",
        "print(confusion_matrix(y_test, preds))\n",
        "print('Accuracy', 'Ada Boost Classifier', ':', round(accuracy_score(y_test, preds), 5), '\\n')"
      ],
      "metadata": {
        "execution": {
          "iopub.status.busy": "2022-05-21T06:51:42.165943Z",
          "iopub.execute_input": "2022-05-21T06:51:42.166215Z",
          "iopub.status.idle": "2022-05-21T06:57:24.629886Z",
          "shell.execute_reply.started": "2022-05-21T06:51:42.166175Z",
          "shell.execute_reply": "2022-05-21T06:57:24.629048Z"
        },
        "trusted": true,
        "colab": {
          "base_uri": "https://localhost:8080/"
        },
        "outputId": "4d1dbcf0-0860-44a3-9ebd-0ec37eea346e",
        "id": "pP420pJnQTst"
      },
      "execution_count": 26,
      "outputs": [
        {
          "output_type": "stream",
          "name": "stdout",
          "text": [
            "[[212   5  12   7   4  18  40   0  11  10]\n",
            " [  2 287   5   0   0  10   0   0   0   4]\n",
            " [ 23   1 166  18   2  21   1  19   9  26]\n",
            " [  3   5  15 182  23   3  16  21  15  18]\n",
            " [  8   2   8  17 201   0  15  24  31   5]\n",
            " [ 11  28  14   5   1 214   0   2   7   4]\n",
            " [ 10   0   0   7   4   0 266   0   3  13]\n",
            " [  0   0  14   8  11   0   0 226   3   5]\n",
            " [ 14   1  19  12  29   5   8  10 210   8]\n",
            " [ 35   3  25  32   5  14  22  18  19 127]]\n",
            "Accuracy Logistic Regression : 0.6977 \n",
            "\n",
            "[[257   9   9   3   8  15  12   0   6   0]\n",
            " [  1 302   3   0   0   2   0   0   0   0]\n",
            " [ 51   7 150  12   7  29   0  13  13   4]\n",
            " [ 15  10  19 145  62   7   2  25  14   2]\n",
            " [ 15   5   8   2 237   0   6  15  21   2]\n",
            " [ 17  48   6   1   2 203   0   2   7   0]\n",
            " [ 32   1   5  13  12   0 231   0   5   4]\n",
            " [  1   2   7   4  19   4   0 221   7   2]\n",
            " [ 21   2  15   8  61   7   3   4 192   3]\n",
            " [ 76  13  30  46  25  29  11  14  30  26]]\n",
            "Accuracy Stochastic Gradient Descent : 0.65532 \n",
            "\n",
            "[[256   5  22   4   2   8   6   0  10   6]\n",
            " [  0 297   1   0   0  10   0   0   0   0]\n",
            " [  9   2 230  11   1  13   0   1  12   7]\n",
            " [  7   6   8 246   8   0   2   4   6  14]\n",
            " [  7   1  15  24 217   0   9  21  14   3]\n",
            " [  2  30  16   2   0 233   0   2   1   0]\n",
            " [  6   0   2  15   5   0 252   0   4  19]\n",
            " [  0   0   6  17   2   2   0 229  10   1]\n",
            " [  3   1  16  20  13   0   2  11 248   2]\n",
            " [ 11   1  20  35   0   7   7   2  10 207]]\n",
            "Accuracy KNN : 0.80581 \n",
            "\n",
            "[[161   1  37  19  16  16  12   9  16  32]\n",
            " [  3 258   9   2   1  23   0   2   2   8]\n",
            " [ 27   4 151   9  11  20   7  11  16  30]\n",
            " [ 10   2  20 166  22   6  10  17  16  32]\n",
            " [ 10   0  12  30 204   4  11  16  20   4]\n",
            " [ 14  14  14   8   2 205   7   9   4   9]\n",
            " [  8   0   6  11  11   2 239   2   6  18]\n",
            " [  0   1  17  12  13   3   0 207   8   6]\n",
            " [  8   2  24  26  25   5   4  12 186  24]\n",
            " [ 18   6  27  28   9  22  22   9  13 146]]\n",
            "Accuracy Decision Tree Classifier : 0.64164 \n",
            "\n",
            "[[246   1  31   8   4   8  15   0   6   0]\n",
            " [  0 294   1   0   0  12   0   0   0   1]\n",
            " [ 13   1 212  12   0  23   3   3   9  10]\n",
            " [  1   4  11 235  14   1   5   8  10  12]\n",
            " [  4   0   7   8 250   2  13  15  10   2]\n",
            " [  7  21   5   1   0 251   0   0   1   0]\n",
            " [  1   0   1   2   3   1 281   0   6   8]\n",
            " [  0   0  12   4   2   1   0 238   5   5]\n",
            " [  5   2   9  11   7   4   4  17 254   3]\n",
            " [  7   2  29  34   1  12  19   4  13 179]]\n",
            "Accuracy Random Forest Classifier : 0.81415 \n",
            "\n",
            "[[241   5  10   9   2  12  24   0   7   9]\n",
            " [  0 294   2   0   0  10   0   0   0   2]\n",
            " [ 19   0 192  18   0  23   1   5   5  23]\n",
            " [  2   6   7 199  18   7  10  12  14  26]\n",
            " [  7   2   7  18 220   0   8  16  28   5]\n",
            " [ 12  25   9   2   0 234   0   1   2   1]\n",
            " [ 10   0   0   7   4   0 270   0   2  10]\n",
            " [  0   1  10   8   4   1   0 233   4   6]\n",
            " [ 13   2  16  18  20   3   5  10 220   9]\n",
            " [ 19   2  24  45   7  11  16   9  10 157]]\n",
            "Accuracy Support Vector Maching : 0.75409 \n",
            "\n",
            "[[ 94   1  21   9  11  14 129   0  24  16]\n",
            " [  0 285   4   0   2  13   0   0   0   4]\n",
            " [ 52   9  64  15  41  12  18  30  23  22]\n",
            " [ 12   7   6  69  19   0  72  87  20   9]\n",
            " [  6   3   4  18  66   1 108  81  20   4]\n",
            " [ 27  59  14  13  17  97  14  21   9  15]\n",
            " [  3   0   1   6   2   1 281   0   1   8]\n",
            " [  0   1   2   4   6   1   1 243   7   2]\n",
            " [ 13   5  16  18  50   0  25  65 117   7]\n",
            " [ 24   4  25  44  13   6  75  53  17  39]]\n",
            "Accuracy Ada Boost Classifier : 0.45212 \n",
            "\n"
          ]
        }
      ]
    },
    {
      "cell_type": "markdown",
      "source": [
        "Out of all the classifiers demonstrated above, the random forest classifier had the best classification accuracy."
      ],
      "metadata": {
        "id": "5DUboed3b7oB"
      }
    },
    {
      "cell_type": "code",
      "source": [
        "rf = RandomForestClassifier(n_estimators=1000, max_depth=10, random_state=0)\n",
        "rf.fit(X_train, y_train)\n",
        "\n",
        "preds = rf.predict(X_test)\n",
        "\n",
        "print('Accuracy', ':', round(accuracy_score(y_test, preds), 5), '\\n')\n",
        "\n",
        "conf = confusion_matrix(y_test, preds)\n",
        "\n",
        "plt.figure(figsize = (16, 9))\n",
        "sns.heatmap(conf, annot=True, \n",
        "            xticklabels = [\"blues\", \"classical\", \"country\", \"disco\", \"hiphop\", \"jazz\", \"metal\", \"pop\", \"reggae\", \"rock\"],\n",
        "           yticklabels=[\"blues\", \"classical\", \"country\", \"disco\", \"hiphop\", \"jazz\", \"metal\", \"pop\", \"reggae\", \"rock\"]);"
      ],
      "metadata": {
        "execution": {
          "iopub.status.busy": "2022-05-21T06:58:55.65785Z",
          "iopub.execute_input": "2022-05-21T06:58:55.658115Z",
          "iopub.status.idle": "2022-05-21T06:59:29.166707Z",
          "shell.execute_reply.started": "2022-05-21T06:58:55.658086Z",
          "shell.execute_reply": "2022-05-21T06:59:29.166014Z"
        },
        "trusted": true,
        "colab": {
          "base_uri": "https://localhost:8080/",
          "height": 573
        },
        "outputId": "9215c223-2689-4411-d671-97a5682b7c63",
        "id": "22ahhGu-Tr2l"
      },
      "execution_count": 27,
      "outputs": [
        {
          "output_type": "stream",
          "name": "stdout",
          "text": [
            "Accuracy : 0.81415 \n",
            "\n"
          ]
        },
        {
          "output_type": "display_data",
          "data": {
            "text/plain": [
              "<Figure size 1152x648 with 2 Axes>"
            ],
            "image/png": "[encoded data removed]"
          },
          "metadata": {
            "needs_background": "light"
          }
        }
      ]
    }
  ]
}